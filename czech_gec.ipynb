{
 "cells": [
  {
   "cell_type": "code",
   "execution_count": 73,
   "metadata": {},
   "outputs": [],
   "source": [
    "import pandas as pd\n",
    "import numpy as np\n",
    "import re\n",
    "import torch"
   ]
  },
  {
   "cell_type": "markdown",
   "metadata": {},
   "source": [
    "## Word Tokenizer"
   ]
  },
  {
   "cell_type": "code",
   "execution_count": 271,
   "metadata": {},
   "outputs": [],
   "source": [
    "class OneHotEncoder:\n",
    "    def __init__(self, sos=\"<s>\", eos=\"</s>\", oob=\"UNK\"):\n",
    "        self.sos = sos\n",
    "        self.eos = eos\n",
    "        self.oob = oob\n",
    "        self.text_to_index = {}\n",
    "        self.index_to_text = {}\n",
    "        self.text_to_count = {}\n",
    "\n",
    "    def fit_on_texts(self, text: str | list, max_num_of_elems=None):\n",
    "        \"\"\"\"\n",
    "        Text either as list of words (word embedding) or string (character embedding)\n",
    "        \"\"\"\n",
    "        for elem in text:\n",
    "            self.text_to_count[elem] = self.text_to_count.get(elem, 0) + 1\n",
    "        \n",
    "\n",
    "        if max_num_of_elems is None:\n",
    "            max_num_of_elems = len(self.text_to_count)\n",
    "        \n",
    "        self.text_to_index = {self.eos: 0, self.sos: 1, self.oob: 2}\n",
    "        index = len(self.text_to_index)\n",
    "\n",
    "        sorted_texts_by_counts = sorted(self.text_to_count.items(), key=lambda x: x[1], reverse=True)[:max_num_of_elems]\n",
    "        for elem in [item[0] for item in sorted_texts_by_counts]:\n",
    "            self.text_to_index[elem] = index\n",
    "            index += 1\n",
    "\n",
    "        self.index_to_text = {index: text for text, index in self.text_to_index.items()}\n",
    "        \n",
    "\n",
    "    def encode(self, text: str | list) -> torch.Tensor:\n",
    "        encoding_list = [self.text_to_index.get(elem, self.text_to_index[self.oob]) for elem in text]\n",
    "        return torch.tensor(encoding_list)\n",
    "\n",
    "\n",
    "    def decode(self, embedding: torch.Tensor) -> list[str]:\n",
    "        decoding_list = [self.index_to_text[elem] for elem in embedding.tolist()]\n",
    "        return decoding_list"
   ]
  },
  {
   "cell_type": "code",
   "execution_count": 3,
   "metadata": {},
   "outputs": [
    {
     "data": {
      "text/plain": [
       "['This', 'is', 'a', 'random', 'text']"
      ]
     },
     "execution_count": 3,
     "metadata": {},
     "output_type": "execute_result"
    }
   ],
   "source": [
    "ohc = OneHotEncoder()\n",
    "text = \"This is a random text\"\n",
    "tokenized = re.sub(\"[^a-zA-Z+ ]\", \"\", text).split()\n",
    "ohc.fit_on_texts(tokenized)\n",
    "ohc.decode(ohc.encode(tokenized))"
   ]
  },
  {
   "cell_type": "markdown",
   "metadata": {},
   "source": [
    "## Load and preprocess dataset"
   ]
  },
  {
   "cell_type": "code",
   "execution_count": 231,
   "metadata": {},
   "outputs": [],
   "source": [
    "def normalize_sentence(sentence: str, lowercase=False):\n",
    "    sentence = sentence.strip()\n",
    "    if lowercase:\n",
    "        sentence = sentence.lower()\n",
    "    \n",
    "    # Remove structure information in stylistic texts\n",
    "    sentence = re.sub(\"V?I{1,3}\\.\", \"\", sentence)\n",
    "    sentence = re.sub(\"^[a-gA-D123456]\\)\", \"\", sentence)\n",
    "\n",
    "    # Remove hyper-links\n",
    "    sentence = re.sub(\"https?\\S+\", \"\", sentence)\n",
    "    sentence = re.sub(\"www\\S+\", \"\", sentence)\n",
    "\n",
    "    # Remove emoticons\n",
    "    sentence = re.sub(\"[:;\\.=xX<][^a-zA-Z\\s]*o*[\\)\\(\\/oDP!3]+\", \"\", sentence)\n",
    "    sentence = re.sub('[\"#$%&()*+\\-\\/;=@[\\]^_`{|}~\\t\\n]+', \"\", sentence)\n",
    "\n",
    "    # Use separate tokens for interpunction\n",
    "    sentence = re.sub(\"\\.+\", \" .\", sentence)\n",
    "    sentence = re.sub(\",+\", \" ,\", sentence)\n",
    "    sentence = re.sub(\":+\", \" :\", sentence)\n",
    "    sentence = re.sub(\"\\?+\", \" ?\", sentence)\n",
    "    sentence = re.sub(\"!+\", \" !\", sentence)\n",
    "    sentence = re.sub(\"  \", \" \", sentence)\n",
    "    return sentence.strip().split(\" \")"
   ]
  },
  {
   "cell_type": "code",
   "execution_count": 232,
   "metadata": {},
   "outputs": [],
   "source": [
    "def tokenize_dataset(data_type=\"train\"):\n",
    "    with open(f\"data/{data_type}/sentence.input\", encoding=\"UTF-8\") as input_file:\n",
    "        input_lines = input_file.readlines()\n",
    "    \n",
    "    with open(f\"data/{data_type}/sentence.gold\", encoding=\"UTF-8\") as input_file:\n",
    "        golden_lines = input_file.readlines()\n",
    "\n",
    "    input_tokens = []\n",
    "    gold_tokens = []\n",
    "    for input_line, golden_line in zip(input_lines, golden_lines):\n",
    "        for golden_choice in golden_line.split(\"\\t\"):\n",
    "            normalized_choice = normalize_sentence(golden_choice, lowercase=False)\n",
    "\n",
    "            if len(normalized_choice) > 3 or len(normalized_choice[0]) > 4:\n",
    "                input_tokens.append(normalize_sentence(input_line, lowercase=False))\n",
    "                gold_tokens.append(normalized_choice)\n",
    "\n",
    "    return input_tokens, gold_tokens"
   ]
  },
  {
   "cell_type": "code",
   "execution_count": 233,
   "metadata": {},
   "outputs": [],
   "source": [
    "train_input, train_golden = tokenize_dataset(\"train\")"
   ]
  },
  {
   "cell_type": "markdown",
   "metadata": {},
   "source": [
    "### Dataset analysis"
   ]
  },
  {
   "cell_type": "code",
   "execution_count": 234,
   "metadata": {},
   "outputs": [],
   "source": [
    "train_input_flattened = np.concatenate(train_input).ravel()\n",
    "train_golden_flattened = np.concatenate(train_golden).ravel()"
   ]
  },
  {
   "cell_type": "code",
   "execution_count": 235,
   "metadata": {},
   "outputs": [],
   "source": [
    "from collections import Counter\n",
    "import matplotlib.pyplot as plt"
   ]
  },
  {
   "cell_type": "code",
   "execution_count": 236,
   "metadata": {},
   "outputs": [],
   "source": [
    "ct = Counter(train_input_flattened)"
   ]
  },
  {
   "cell_type": "code",
   "execution_count": 237,
   "metadata": {},
   "outputs": [
    {
     "name": "stdout",
     "output_type": "stream",
     "text": [
      "Number of tokens:  808463\n",
      "Number of types (unique tokens): 79496\n",
      "Most common tokens: \n",
      "\t ('.', 56722)\n",
      "\t(',', 42236)\n",
      "\t('a', 26761)\n",
      "\t('se', 17040)\n",
      "\t('na', 13326)\n",
      "\t('je', 12132)\n",
      "\t('v', 10066)\n",
      "\t('to', 8933)\n",
      "\t('jsem', 8552)\n",
      "\t('že', 6933)\n",
      "\t('do', 5755)\n",
      "\t('si', 4993)\n",
      "\t('s', 4355)\n",
      "\t('ale', 3805)\n",
      "\t('tak', 3686)\n",
      "\t('?', 3672)\n",
      "\t('jsme', 3596)\n",
      "\t('mi', 3085)\n",
      "\t('A', 2920)\n",
      "\t('bych', 2852)\n",
      "\t('z', 2842)\n",
      "\t('tam', 2697)\n",
      "\t('o', 2696)\n",
      "\t('!', 2505)\n",
      "\t('moc', 2419)\n"
     ]
    }
   ],
   "source": [
    "print(\"Number of tokens: \", len(train_input_flattened))\n",
    "print(\"Number of types (unique tokens):\", len(ct.keys()))\n",
    "print(\"Most common tokens: \\n\\t\", \"\\n\\t\".join(map(str, ct.most_common(25))))"
   ]
  },
  {
   "cell_type": "code",
   "execution_count": 238,
   "metadata": {},
   "outputs": [
    {
     "data": {
      "image/png": "[encoded data removed]",
      "text/plain": [
       "<Figure size 640x480 with 1 Axes>"
      ]
     },
     "metadata": {},
     "output_type": "display_data"
    }
   ],
   "source": [
    "x, y = list(zip(*ct.most_common(30)))\n",
    "zipf_y = [(1/n**1) * y[0] for n in range(1, len(x) + 1)]\n",
    "\n",
    "plt.bar(x, y)\n",
    "plt.plot(x, zipf_y, color=\"black\")\n",
    "plt.plot(x, zipf_y, color=\"black\", marker=\"+\", label=\"Zipf's Law Estimation\")\n",
    "plt.legend()\n",
    "plt.xticks(rotation=45)\n",
    "plt.ylabel(\"Token frequency\")\n",
    "plt.title(\"Most common tokens in the training set\")\n",
    "None"
   ]
  },
  {
   "cell_type": "code",
   "execution_count": 239,
   "metadata": {},
   "outputs": [],
   "source": [
    "sorted_values = sorted(ct.items(), key=lambda x: x[1], reverse=True)"
   ]
  },
  {
   "cell_type": "code",
   "execution_count": 240,
   "metadata": {},
   "outputs": [
    {
     "name": "stdout",
     "output_type": "stream",
     "text": [
      "0.6 percentile (word frequency): 1\n",
      "Number of tokens below the 0.6 percentile:  45316\n",
      "Number of tokens above the 0.6 percentile:  34180\n"
     ]
    }
   ],
   "source": [
    "percentile = 0.6\n",
    "counts = np.array(list(reversed([x[1] for x in sorted_values])))\n",
    "count_treshold = np.quantile(counts, 1 - percentile)\n",
    "\n",
    "print(f\"{percentile} percentile (word frequency): {count_treshold:.0f}\")\n",
    "print(f\"Number of tokens below the {percentile} percentile: \", len([x for x in counts if x > count_treshold]))\n",
    "print(f\"Number of tokens above the {percentile} percentile: \", len([x for x in counts if x <= count_treshold]))\n"
   ]
  },
  {
   "cell_type": "markdown",
   "metadata": {},
   "source": [
    "### Tensor creation"
   ]
  },
  {
   "cell_type": "code",
   "execution_count": 257,
   "metadata": {},
   "outputs": [],
   "source": [
    "from torch.nn.utils.rnn import pad_sequence"
   ]
  },
  {
   "cell_type": "code",
   "execution_count": 276,
   "metadata": {},
   "outputs": [],
   "source": [
    "tokenizer = OneHotEncoder()\n",
    "tokenizer.fit_on_texts(np.concatenate([train_input_flattened, train_golden_flattened]))"
   ]
  },
  {
   "cell_type": "code",
   "execution_count": 277,
   "metadata": {},
   "outputs": [],
   "source": [
    "train_input_tensor = pad_sequence([tokenizer.encode(sentence) for sentence in train_input])"
   ]
  },
  {
   "cell_type": "code",
   "execution_count": 278,
   "metadata": {},
   "outputs": [
    {
     "data": {
      "text/plain": [
       "['Nebo',\n",
       " 'nevím',\n",
       " 'nějaké',\n",
       " 'specifiské',\n",
       " 'běloruské',\n",
       " 'národní',\n",
       " 'tradice',\n",
       " ',',\n",
       " 'protože',\n",
       " 'vyrostl',\n",
       " 'jsem',\n",
       " 've',\n",
       " 'městě',\n",
       " ',',\n",
       " 'kde',\n",
       " 'oslává',\n",
       " 'Vánoc',\n",
       " 'neni',\n",
       " 'tak',\n",
       " 'rozšiřena',\n",
       " '.',\n",
       " '</s>',\n",
       " '</s>',\n",
       " '</s>',\n",
       " '</s>',\n",
       " '</s>',\n",
       " '</s>',\n",
       " '</s>',\n",
       " '</s>',\n",
       " '</s>',\n",
       " '</s>',\n",
       " '</s>',\n",
       " '</s>',\n",
       " '</s>',\n",
       " '</s>',\n",
       " '</s>',\n",
       " '</s>',\n",
       " '</s>',\n",
       " '</s>',\n",
       " '</s>',\n",
       " '</s>',\n",
       " '</s>',\n",
       " '</s>',\n",
       " '</s>',\n",
       " '</s>',\n",
       " '</s>',\n",
       " '</s>',\n",
       " '</s>',\n",
       " '</s>',\n",
       " '</s>',\n",
       " '</s>',\n",
       " '</s>',\n",
       " '</s>',\n",
       " '</s>',\n",
       " '</s>',\n",
       " '</s>',\n",
       " '</s>',\n",
       " '</s>',\n",
       " '</s>',\n",
       " '</s>',\n",
       " '</s>',\n",
       " '</s>',\n",
       " '</s>',\n",
       " '</s>',\n",
       " '</s>',\n",
       " '</s>',\n",
       " '</s>',\n",
       " '</s>',\n",
       " '</s>',\n",
       " '</s>',\n",
       " '</s>',\n",
       " '</s>',\n",
       " '</s>',\n",
       " '</s>',\n",
       " '</s>',\n",
       " '</s>',\n",
       " '</s>',\n",
       " '</s>',\n",
       " '</s>',\n",
       " '</s>',\n",
       " '</s>',\n",
       " '</s>',\n",
       " '</s>',\n",
       " '</s>',\n",
       " '</s>',\n",
       " '</s>',\n",
       " '</s>',\n",
       " '</s>',\n",
       " '</s>',\n",
       " '</s>',\n",
       " '</s>',\n",
       " '</s>',\n",
       " '</s>',\n",
       " '</s>',\n",
       " '</s>',\n",
       " '</s>',\n",
       " '</s>',\n",
       " '</s>',\n",
       " '</s>',\n",
       " '</s>',\n",
       " '</s>',\n",
       " '</s>',\n",
       " '</s>',\n",
       " '</s>',\n",
       " '</s>',\n",
       " '</s>',\n",
       " '</s>',\n",
       " '</s>',\n",
       " '</s>',\n",
       " '</s>',\n",
       " '</s>',\n",
       " '</s>',\n",
       " '</s>',\n",
       " '</s>',\n",
       " '</s>',\n",
       " '</s>',\n",
       " '</s>',\n",
       " '</s>',\n",
       " '</s>',\n",
       " '</s>',\n",
       " '</s>',\n",
       " '</s>',\n",
       " '</s>',\n",
       " '</s>',\n",
       " '</s>',\n",
       " '</s>',\n",
       " '</s>',\n",
       " '</s>',\n",
       " '</s>',\n",
       " '</s>',\n",
       " '</s>',\n",
       " '</s>',\n",
       " '</s>',\n",
       " '</s>',\n",
       " '</s>',\n",
       " '</s>',\n",
       " '</s>',\n",
       " '</s>',\n",
       " '</s>',\n",
       " '</s>',\n",
       " '</s>',\n",
       " '</s>',\n",
       " '</s>',\n",
       " '</s>',\n",
       " '</s>',\n",
       " '</s>',\n",
       " '</s>',\n",
       " '</s>',\n",
       " '</s>',\n",
       " '</s>',\n",
       " '</s>',\n",
       " '</s>',\n",
       " '</s>',\n",
       " '</s>',\n",
       " '</s>',\n",
       " '</s>',\n",
       " '</s>',\n",
       " '</s>',\n",
       " '</s>',\n",
       " '</s>',\n",
       " '</s>',\n",
       " '</s>',\n",
       " '</s>',\n",
       " '</s>',\n",
       " '</s>',\n",
       " '</s>',\n",
       " '</s>',\n",
       " '</s>',\n",
       " '</s>',\n",
       " '</s>',\n",
       " '</s>',\n",
       " '</s>',\n",
       " '</s>',\n",
       " '</s>',\n",
       " '</s>',\n",
       " '</s>',\n",
       " '</s>',\n",
       " '</s>',\n",
       " '</s>',\n",
       " '</s>',\n",
       " '</s>',\n",
       " '</s>',\n",
       " '</s>',\n",
       " '</s>',\n",
       " '</s>',\n",
       " '</s>',\n",
       " '</s>',\n",
       " '</s>',\n",
       " '</s>',\n",
       " '</s>',\n",
       " '</s>',\n",
       " '</s>',\n",
       " '</s>',\n",
       " '</s>',\n",
       " '</s>',\n",
       " '</s>',\n",
       " '</s>',\n",
       " '</s>',\n",
       " '</s>',\n",
       " '</s>',\n",
       " '</s>',\n",
       " '</s>',\n",
       " '</s>',\n",
       " '</s>',\n",
       " '</s>',\n",
       " '</s>',\n",
       " '</s>',\n",
       " '</s>',\n",
       " '</s>',\n",
       " '</s>',\n",
       " '</s>',\n",
       " '</s>',\n",
       " '</s>',\n",
       " '</s>',\n",
       " '</s>',\n",
       " '</s>',\n",
       " '</s>',\n",
       " '</s>',\n",
       " '</s>',\n",
       " '</s>',\n",
       " '</s>',\n",
       " '</s>',\n",
       " '</s>',\n",
       " '</s>',\n",
       " '</s>',\n",
       " '</s>',\n",
       " '</s>',\n",
       " '</s>',\n",
       " '</s>',\n",
       " '</s>',\n",
       " '</s>',\n",
       " '</s>',\n",
       " '</s>',\n",
       " '</s>',\n",
       " '</s>',\n",
       " '</s>',\n",
       " '</s>',\n",
       " '</s>',\n",
       " '</s>',\n",
       " '</s>',\n",
       " '</s>',\n",
       " '</s>',\n",
       " '</s>',\n",
       " '</s>',\n",
       " '</s>']"
      ]
     },
     "execution_count": 278,
     "metadata": {},
     "output_type": "execute_result"
    }
   ],
   "source": [
    "tokenizer.decode(train_input_tensor.transpose(0, 1)[2])"
   ]
  }
 ],
 "metadata": {
  "kernelspec": {
   "display_name": "thi_prog_env",
   "language": "python",
   "name": "python3"
  },
  "language_info": {
   "codemirror_mode": {
    "name": "ipython",
    "version": 3
   },
   "file_extension": ".py",
   "mimetype": "text/x-python",
   "name": "python",
   "nbconvert_exporter": "python",
   "pygments_lexer": "ipython3",
   "version": "3.10.5"
  }
 },
 "nbformat": 4,
 "nbformat_minor": 2
}
