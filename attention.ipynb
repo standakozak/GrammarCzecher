{
 "cells": [
  {
   "cell_type": "markdown",
   "metadata": {},
   "source": [
    "# Spell checker with Attention"
   ]
  },
  {
   "cell_type": "markdown",
   "metadata": {},
   "source": [
    "## Imports"
   ]
  },
  {
   "cell_type": "code",
   "execution_count": 1,
   "metadata": {},
   "outputs": [],
   "source": [
    "import numpy as np\n",
    "import re\n",
    "import torch\n",
    "from torch import nn\n",
    "import torch.nn.functional as F\n",
    "import matplotlib.pyplot as plt\n",
    "from collections import Counter"
   ]
  },
  {
   "cell_type": "code",
   "execution_count": 2,
   "metadata": {},
   "outputs": [],
   "source": [
    "device = torch.device('cuda' if torch.cuda.is_available() else 'cpu')"
   ]
  },
  {
   "cell_type": "markdown",
   "metadata": {},
   "source": [
    "## Word Tokenizer"
   ]
  },
  {
   "cell_type": "code",
   "execution_count": 3,
   "metadata": {},
   "outputs": [],
   "source": [
    "START_OF_SENTENCE = \"<s>\"\n",
    "END_OF_SENTENCE = \"</s>\"\n",
    "UNKNOWN = \"<UNK>\"\n",
    "INPUT_SENTENCE_LENGTH = 5\n",
    "BATCH_SIZE = 8\n",
    "\n",
    "class OneHotEncoder:\n",
    "    def __init__(self, sos=START_OF_SENTENCE, eos=END_OF_SENTENCE, oov=UNKNOWN):\n",
    "        self.sos = sos\n",
    "        self.eos = eos\n",
    "        self.oov = oov\n",
    "        self.text_to_index = {}\n",
    "        self.index_to_text = {}\n",
    "        self.text_to_count = {}\n",
    "\n",
    "    def fit_on_texts(self, text: str | list, max_num_of_elems=None):\n",
    "        \"\"\"\"\n",
    "        Text either as list of words (word embedding) or string (character embedding)\n",
    "        \"\"\"\n",
    "\n",
    "        self.text_to_index = {}\n",
    "        self.index_to_text = {}\n",
    "        self.text_to_count = {}\n",
    "\n",
    "        for elem in text:\n",
    "            self.text_to_count[elem] = self.text_to_count.get(elem, 0) + 1\n",
    "        \n",
    "        if max_num_of_elems is None:\n",
    "            max_num_of_elems = len(self.text_to_count)\n",
    "        \n",
    "        index = 3\n",
    "\n",
    "        sorted_texts_by_counts = sorted(self.text_to_count.items(), key=lambda x: x[1], reverse=True)[:max_num_of_elems]\n",
    "        for elem in [item[0] for item in sorted_texts_by_counts]:\n",
    "            self.text_to_index[elem] = index\n",
    "            index += 1\n",
    "        \n",
    "        self.text_to_index[self.eos] = 0\n",
    "        self.text_to_index[self.sos] = 1\n",
    "        self.text_to_index[self.oov] = 2\n",
    "        self.index_to_text = {index: text for text, index in self.text_to_index.items()}\n",
    "        \n",
    "\n",
    "    def encode(self, text: str | list) -> torch.Tensor:\n",
    "        \"\"\"\n",
    "        Creates an embedding tensor from the text / list of texts\n",
    "        \"\"\"\n",
    "        encoding_list = [self.text_to_index.get(elem, self.text_to_index[self.oov]) for elem in text]\n",
    "        return torch.tensor(encoding_list)\n",
    "\n",
    "\n",
    "    def decode(self, embedding: torch.Tensor) -> list[str]:\n",
    "        \"\"\"\n",
    "        Converts embedding back into text\n",
    "        \"\"\"\n",
    "        decoding_list = [self.index_to_text[elem] for elem in embedding.tolist()]\n",
    "        return decoding_list"
   ]
  },
  {
   "cell_type": "code",
   "execution_count": 4,
   "metadata": {},
   "outputs": [],
   "source": [
    "def merge_items(all_tokens, pair, new_index):\n",
    "    ix = np.where((all_tokens[:-1] == pair[0]) & (all_tokens[1:] == pair[1]))[0]\n",
    "    all_tokens[ix] = new_index\n",
    "    all_tokens = np.delete(all_tokens, ix+1)\n",
    "\n",
    "    return all_tokens"
   ]
  },
  {
   "cell_type": "raw",
   "metadata": {
    "vscode": {
     "languageId": "raw"
    }
   },
   "source": [
    "START_OF_SENTENCE = \"<s>\"\n",
    "END_OF_SENTENCE = \"</s>\"\n",
    "UNKNOWN = \"<UNK>\"\n",
    "INPUT_SENTENCE_LENGTH = 5\n",
    "BATCH_SIZE = 8\n",
    "\n",
    "\n",
    "class CharacterTokenizer:\n",
    "    def __init__(self, sos=START_OF_SENTENCE, eos=END_OF_SENTENCE, oov=UNKNOWN):\n",
    "        self.sos = sos\n",
    "        self.eos = eos\n",
    "        self.oov = oov\n",
    "        self.text_to_index = {}\n",
    "        self.index_to_text = {}\n",
    "        self.text_to_count = {}\n",
    "        self.merges = {}\n",
    "\n",
    "    def fit_on_texts(self, text: str, max_num_of_elems=None):\n",
    "        \"\"\"\"\n",
    "        Text either as list of words (word embedding) or string (character embedding)\n",
    "        \"\"\"\n",
    "\n",
    "        self.text_to_index = {v: ord(v) for v in set(text)}\n",
    "        self.index_to_text = {index: text for text, index in self.text_to_index.items()}\n",
    "\n",
    "        encoded = np.array(list(map(int, text.encode(\"utf-8\"))))\n",
    "        tokenized_text = encoded.copy()\n",
    "        if max_num_of_elems is not None:\n",
    "            self.merges = {}\n",
    "            new_index = 256\n",
    "            while len(self.text_to_index) < max_num_of_elems:\n",
    "                # 2-element tuples with indices\n",
    "                bigrams = [pair for pair in zip(tokenized_text, tokenized_text[1:])]\n",
    "                if len(set(bigrams)) == len(bigrams):\n",
    "                    break\n",
    "                most_common_bigram_indices = sorted(list(set(bigrams)), key=lambda val: bigrams.count(val), reverse=True)[0]\n",
    "                most_common_bigram = self.index_to_text[most_common_bigram_indices[0]] + self.index_to_text[most_common_bigram_indices[1]]\n",
    "            \n",
    "                self.text_to_index[most_common_bigram] = new_index\n",
    "                self.index_to_text[new_index] = most_common_bigram\n",
    "                self.merges[most_common_bigram_indices] = new_index\n",
    "                tokenized_text = merge_items(tokenized_text, most_common_bigram_indices, new_index)\n",
    "                new_index += 1\n",
    "\n",
    "        for elem in tokenized_text:\n",
    "            self.text_to_count[elem] = self.text_to_count.get(elem, 0) + 1        \n",
    "\n",
    "    def encode(self, text: str) -> torch.Tensor:\n",
    "        \"\"\"\n",
    "        Creates an embedding tensor from the text / list of texts\n",
    "        \"\"\"\n",
    "        encoding_list = np.array(list(map(int, text.encode(\"utf-8\"))))\n",
    "        for merge_pair, new_index in self.merges.items():\n",
    "            encoding_list = merge_items(encoding_list, merge_pair, new_index)\n",
    "        \n",
    "        return torch.tensor(encoding_list)\n",
    "\n",
    "\n",
    "    def decode(self, embedding: torch.Tensor) -> list[str]:\n",
    "        \"\"\"\n",
    "        Converts embedding back into text\n",
    "        \"\"\"\n",
    "        decoding_list = [self.index_to_text[elem] for elem in embedding.tolist()]\n",
    "        return decoding_list\n",
    "\n",
    "\n",
    "ohc = CharacterTokenizer()\n",
    "text = \"This is a random text.\"\n",
    "tokenized = re.sub(\"[^a-zA-Z+ ]\", \"\", text)\n",
    "ohc.fit_on_texts(tokenized, max_num_of_elems=35)\n",
    "\n",
    "ohc.decode(ohc.encode(tokenized))"
   ]
  },
  {
   "cell_type": "markdown",
   "metadata": {},
   "source": [
    "### Test the word tokenizer"
   ]
  },
  {
   "cell_type": "code",
   "execution_count": 5,
   "metadata": {},
   "outputs": [
    {
     "data": {
      "text/plain": [
       "['This', 'is', 'a', 'random', 'text', '</s>']"
      ]
     },
     "execution_count": 5,
     "metadata": {},
     "output_type": "execute_result"
    }
   ],
   "source": [
    "ohc = OneHotEncoder()\n",
    "text = \"This is a random text\"\n",
    "tokenized = re.sub(\"[^a-zA-Z+ ]\", \"\", text).split() + [END_OF_SENTENCE]\n",
    "ohc.fit_on_texts(tokenized)\n",
    "ohc.decode(ohc.encode(tokenized))"
   ]
  },
  {
   "cell_type": "markdown",
   "metadata": {},
   "source": [
    "## Load and preprocess dataset"
   ]
  },
  {
   "cell_type": "code",
   "execution_count": 9,
   "metadata": {},
   "outputs": [],
   "source": [
    "def normalize_sentence(sentence: str, lowercase=False, max_length=None):\n",
    "    sentence = sentence.strip()\n",
    "    if lowercase:\n",
    "        sentence = sentence.lower()\n",
    "    \n",
    "    # Remove structure information in stylistic texts\n",
    "    sentence = re.sub(\"V?I{1,3}\\.\", \"\", sentence)\n",
    "    sentence = re.sub(\"^[a-gA-D123456]\\)\", \"\", sentence)\n",
    "\n",
    "    # Remove hyper-links\n",
    "    sentence = re.sub(\"https?\\S+\", \"\", sentence)\n",
    "    sentence = re.sub(\"www\\S+\", \"\", sentence)\n",
    "\n",
    "    # Remove emoticons\n",
    "    sentence = re.sub(\"[:;\\.=xX<][^a-zA-Z\\s]*o*[\\)\\(\\/oDP!3]+\", \"\", sentence)\n",
    "\n",
    "    sentence = re.sub('[\"“#$%&()*+\\-\\/;=@[\\]^_`{|}~\\t\\n]+', \"\", sentence)\n",
    "    sentence = re.sub(\"'\", \"\", sentence)\n",
    "\n",
    "    # Use separate tokens for interpunction\n",
    "    sentence = re.sub(\"\\.+\", \" .\", sentence)\n",
    "    sentence = re.sub(\",+\", \" ,\", sentence)\n",
    "    sentence = re.sub(\":+\", \" :\", sentence)\n",
    "    sentence = re.sub(\"\\?+\", \" ?\", sentence)\n",
    "    sentence = re.sub(\"!+\", \" !\", sentence)\n",
    "    sentence = re.sub(\"  \", \" \", sentence)\n",
    "\n",
    "\n",
    "    \"\"\"\n",
    "    sentence = re.sub(\"á\", \"a\", sentence)\n",
    "    sentence = re.sub(\"[éě]\", \"e\", sentence)\n",
    "    sentence = re.sub(\"í\", \"i\", sentence)\n",
    "    sentence = re.sub(\"ý\", \"y\", sentence)\n",
    "    sentence = re.sub(\"ó\", \"o\", sentence)\n",
    "    sentence = re.sub(\"[ůú]\", \"u\", sentence)\n",
    "    sentence = re.sub(\"č\", \"c\", sentence)\n",
    "    sentence = re.sub(\"ď\", \"d\", sentence)\n",
    "    sentence = re.sub(\"ň\", \"n\", sentence)\n",
    "    sentence = re.sub(\"ř\", \"r\", sentence)\n",
    "    sentence = re.sub(\"š\", \"s\", sentence)\n",
    "    sentence = re.sub(\"ť\", \"t\", sentence)\n",
    "    sentence = re.sub(\"ž\", \"z\", sentence)\n",
    "    \"\"\"\n",
    "\n",
    "    sentence_tokens = sentence.strip().split(\" \")\n",
    "    if max_length is None:\n",
    "        max_length = len(sentence_tokens) + 1\n",
    "    \n",
    "    return [[START_OF_SENTENCE] + sentence_tokens[i:i+max_length-2] + [END_OF_SENTENCE] for i in range(0, len(sentence_tokens), max_length-2)]\n",
    "    \n",
    "    return [sentence_tokens[i:i+max_length-1] + [END_OF_SENTENCE] for i in range(0, len(sentence_tokens), max_length-1)]\n",
    "    "
   ]
  },
  {
   "cell_type": "code",
   "execution_count": 10,
   "metadata": {},
   "outputs": [],
   "source": [
    "def tokenize_dataset(data_type=\"train\"):\n",
    "    with open(f\"data/{data_type}/sentence.input\", encoding=\"UTF-8\") as input_file:\n",
    "        input_lines = input_file.readlines()\n",
    "    \n",
    "    with open(f\"data/{data_type}/sentence.gold\", encoding=\"UTF-8\") as input_file:\n",
    "        golden_lines = input_file.readlines()\n",
    "\n",
    "    input_tokens = []\n",
    "    gold_tokens = []\n",
    "    for input_line, golden_line in zip(input_lines, golden_lines):\n",
    "        for golden_choice in golden_line.split(\"\\t\"):\n",
    "            normalized_choice = normalize_sentence(golden_choice, lowercase=True, max_length=INPUT_SENTENCE_LENGTH)\n",
    "            #INPUT_SENTENCE_LENGTH)\n",
    "\n",
    "            if len(normalized_choice[0]) > 3 or len(normalized_choice[0][0]) > 4:\n",
    "                # Ignore short and empty sentences\n",
    "                normalized_input = normalize_sentence(input_line, lowercase=True, max_length=INPUT_SENTENCE_LENGTH)\n",
    "                #INPUT_SENTENCE_LENGTH)\n",
    "                # If splits of input and golden have different lengths, add trailing tokens accordingly \n",
    "                while len(normalized_input) < len(normalized_choice):\n",
    "                    normalized_input.append([START_OF_SENTENCE])\n",
    "                while len(normalized_choice) < len(normalized_input):\n",
    "                    normalized_choice.append([START_OF_SENTENCE])\n",
    "                input_tokens += normalized_input\n",
    "                gold_tokens += normalized_choice\n",
    "\n",
    "    return input_tokens, gold_tokens"
   ]
  },
  {
   "cell_type": "code",
   "execution_count": 11,
   "metadata": {},
   "outputs": [],
   "source": [
    "train_input, train_golden = tokenize_dataset(\"train\")"
   ]
  },
  {
   "cell_type": "code",
   "execution_count": 12,
   "metadata": {},
   "outputs": [],
   "source": [
    "train_input_flattened = np.concatenate(train_input).ravel()\n",
    "train_golden_flattened = np.concatenate(train_golden).ravel()"
   ]
  },
  {
   "cell_type": "markdown",
   "metadata": {},
   "source": [
    "### Dataset analysis"
   ]
  },
  {
   "cell_type": "code",
   "execution_count": 13,
   "metadata": {},
   "outputs": [],
   "source": [
    "ct = Counter(train_input_flattened)"
   ]
  },
  {
   "cell_type": "code",
   "execution_count": 15,
   "metadata": {},
   "outputs": [
    {
     "name": "stdout",
     "output_type": "stream",
     "text": [
      "Number of tokens:  1420319\n",
      "Number of types (unique tokens): 71016\n",
      "Most common tokens: \n",
      "\t ('<s>', 308755)\n",
      "\t('</s>', 295504)\n",
      "\t('.', 58087)\n",
      "\t(',', 42458)\n",
      "\t('a', 29774)\n",
      "\t('se', 17229)\n",
      "\t('na', 14527)\n",
      "\t('je', 13529)\n",
      "\t('v', 12279)\n",
      "\t('to', 10285)\n",
      "\t('jsem', 8975)\n",
      "\t('že', 7004)\n",
      "\t('do', 5918)\n",
      "\t('ale', 5400)\n",
      "\t('si', 5049)\n",
      "\t('s', 4625)\n",
      "\t('tak', 4380)\n",
      "\t('?', 3938)\n",
      "\t('jsme', 3647)\n",
      "\t('když', 3601)\n"
     ]
    }
   ],
   "source": [
    "print(\"Number of tokens: \", len(train_input_flattened))\n",
    "print(\"Number of types (unique tokens):\", len(ct.keys()))\n",
    "print(\"Most common tokens: \\n\\t\", \"\\n\\t\".join(map(str, ct.most_common(20))))"
   ]
  },
  {
   "cell_type": "code",
   "execution_count": 16,
   "metadata": {},
   "outputs": [
    {
     "data": {
      "image/png": "[encoded data removed]",
      "text/plain": [
       "<Figure size 640x480 with 1 Axes>"
      ]
     },
     "metadata": {},
     "output_type": "display_data"
    }
   ],
   "source": [
    "x, y = list(zip(*ct.most_common(30)[2:]))  # Ignore <s> and </s>\n",
    "zipf_y = [(1/n**1) * y[0] for n in range(1, len(x) + 1)]\n",
    "\n",
    "plt.bar(x, y)\n",
    "plt.plot(x, zipf_y, color=\"black\")\n",
    "plt.plot(x, zipf_y, color=\"black\", marker=\"+\", label=\"Type frequency estimation (Zipf's Law)\")\n",
    "plt.legend()\n",
    "plt.xticks(rotation=45)\n",
    "plt.ylabel(\"Type frequency\")\n",
    "plt.title(\"Most common types in the training set\")\n",
    "None"
   ]
  },
  {
   "cell_type": "code",
   "execution_count": 18,
   "metadata": {},
   "outputs": [],
   "source": [
    "sorted_values = sorted(ct.items(), key=lambda x: x[1], reverse=True)"
   ]
  },
  {
   "cell_type": "code",
   "execution_count": 19,
   "metadata": {},
   "outputs": [
    {
     "name": "stdout",
     "output_type": "stream",
     "text": [
      "0.9 percentile (type frequency): 1\n",
      "Number of types below the 0.9 percentile:  41086\n",
      "Number of types above the 0.9 percentile:  29930\n"
     ]
    }
   ],
   "source": [
    "percentile = 0.9\n",
    "counts = np.array(list(reversed([x[1] for x in sorted_values])))\n",
    "count_treshold = np.quantile(counts, 1 - percentile)\n",
    "\n",
    "print(f\"{percentile} percentile (type frequency): {count_treshold:.0f}\")\n",
    "print(f\"Number of types below the {percentile} percentile: \", len([x for x in counts if x > count_treshold]))\n",
    "print(f\"Number of types above the {percentile} percentile: \", len([x for x in counts if x <= count_treshold]))\n"
   ]
  },
  {
   "cell_type": "code",
   "execution_count": 20,
   "metadata": {},
   "outputs": [
    {
     "data": {
      "text/plain": [
       "<BarContainer object of 49 artists>"
      ]
     },
     "execution_count": 20,
     "metadata": {},
     "output_type": "execute_result"
    },
    {
     "data": {
      "image/png": "[encoded data removed]",
      "text/plain": [
       "<Figure size 640x480 with 1 Axes>"
      ]
     },
     "metadata": {},
     "output_type": "display_data"
    }
   ],
   "source": [
    "sentence_length_hist = np.histogram(list(map(len, train_input)), bins=np.linspace(0, 100, 50))\n",
    "bin_edges = sentence_length_hist[1]\n",
    "centers = (bin_edges[:-1] + bin_edges[1:]) / 2\n",
    "width = 0.8*(centers[1] - centers[0])\n",
    "plt.bar(centers, sentence_length_hist[0], width=width)"
   ]
  },
  {
   "cell_type": "markdown",
   "metadata": {},
   "source": [
    "### Tensor creation"
   ]
  },
  {
   "cell_type": "code",
   "execution_count": 21,
   "metadata": {},
   "outputs": [],
   "source": [
    "from torch.nn.utils.rnn import pad_sequence"
   ]
  },
  {
   "cell_type": "code",
   "execution_count": 58,
   "metadata": {},
   "outputs": [],
   "source": [
    "VOCABULARY_LENGTH = 30_000\n",
    "tokenizer = OneHotEncoder()\n",
    "tokenizer.fit_on_texts(np.concatenate([train_input_flattened, train_golden_flattened]), max_num_of_elems=VOCABULARY_LENGTH)\n",
    "\n",
    "VOCABULARY_LENGTH = max(tokenizer.text_to_index.values()) + 1\n",
    "START_OF_SENTENCE_INDEX = tokenizer.text_to_index[START_OF_SENTENCE]\n",
    "END_OF_SENTENCE_INDEX = tokenizer.text_to_index[END_OF_SENTENCE]"
   ]
  },
  {
   "cell_type": "code",
   "execution_count": 23,
   "metadata": {},
   "outputs": [],
   "source": [
    "train_input_tensor = pad_sequence([tokenizer.encode(sentence) for sentence in train_input], batch_first=True)\n",
    "train_golden_tensor = pad_sequence([tokenizer.encode(sentence) for sentence in train_golden], batch_first=True)"
   ]
  },
  {
   "cell_type": "code",
   "execution_count": 24,
   "metadata": {},
   "outputs": [
    {
     "data": {
      "text/plain": [
       "[['<s>', 'jak', 'v', 'bělorusku', '</s>'],\n",
       " ['<s>', 'slaví', 'vánoce', '?', '</s>'],\n",
       " ['<s>', 'musím', 'přiznat', ',', '</s>'],\n",
       " ['<s>', 'že', 'já', 'o', '</s>'],\n",
       " ['<s>', 'tom', 'mnoho', 'nevím', '</s>'],\n",
       " ['<s>', '.', '</s>', '</s>', '</s>'],\n",
       " ['<s>', 'nebo', 'nevím', 'nějaké', '</s>'],\n",
       " ['<s>', '<UNK>', 'běloruské', 'národní', '</s>']]"
      ]
     },
     "execution_count": 24,
     "metadata": {},
     "output_type": "execute_result"
    }
   ],
   "source": [
    "# Check if the embedding was successful\n",
    "[tokenizer.decode(x) for x in train_input_tensor[:8]]"
   ]
  },
  {
   "cell_type": "markdown",
   "metadata": {},
   "source": [
    "## Mini-batch dataloader"
   ]
  },
  {
   "cell_type": "code",
   "execution_count": 25,
   "metadata": {},
   "outputs": [],
   "source": [
    "from torch.utils.data import DataLoader, RandomSampler, TensorDataset"
   ]
  },
  {
   "cell_type": "code",
   "execution_count": 26,
   "metadata": {},
   "outputs": [],
   "source": [
    "train_data = TensorDataset(\n",
    "    torch.LongTensor(train_input_tensor).to(device),\n",
    "    torch.LongTensor(train_golden_tensor).to(device)\n",
    ")\n",
    "sampler = RandomSampler(train_data)\n",
    "data_loader = DataLoader(train_data, batch_size=BATCH_SIZE, sampler=sampler)"
   ]
  },
  {
   "cell_type": "markdown",
   "metadata": {},
   "source": [
    "## RNN Model"
   ]
  },
  {
   "cell_type": "code",
   "execution_count": 27,
   "metadata": {},
   "outputs": [],
   "source": [
    "class Encoder(torch.nn.Module):\n",
    "    def __init__(self, input_size: int, hidden_size: int, num_layers: int = 1, dropout_p=0.1):\n",
    "        super(Encoder, self).__init__()\n",
    "\n",
    "        self.input_dim = input_size\n",
    "        self.hidden_size = hidden_size\n",
    "        self.num_layers = num_layers\n",
    "\n",
    "        self.embedding = torch.nn.Embedding(input_size, hidden_size)\n",
    "        self.model = torch.nn.GRU(hidden_size, hidden_size, num_layers, batch_first=True)\n",
    "        self.dropout = torch.nn.Dropout(dropout_p)\n",
    "\n",
    "    def forward(self, x):\n",
    "        embeddings = self.dropout(self.embedding(x))\n",
    "        outputs, hidden = self.model(embeddings)\n",
    "        return outputs, hidden"
   ]
  },
  {
   "cell_type": "code",
   "execution_count": 28,
   "metadata": {},
   "outputs": [],
   "source": [
    "class Decoder(torch.nn.Module):\n",
    "    def __init__(self, output_size: int, hidden_size: int, num_layers: int = 1):\n",
    "        super(Decoder, self).__init__()\n",
    "\n",
    "        self.output_size = output_size\n",
    "        self.hidden_size = hidden_size\n",
    "        self.num_layers = num_layers\n",
    "\n",
    "        self.embedding = torch.nn.Embedding(output_size, hidden_size)\n",
    "        self.model = torch.nn.GRU(hidden_size, hidden_size, num_layers, batch_first=True)\n",
    "        self.out = torch.nn.Linear(hidden_size, output_size)\n",
    "\n",
    "    def forward(self, encoder_outputs, encoder_hidden, target_tensor=None):\n",
    "        batch_size = encoder_outputs.size(0)\n",
    "        decoder_input = torch.empty(batch_size, 1, dtype=torch.long, device=device).fill_(START_OF_SENTENCE_INDEX)\n",
    "        decoder_hidden = encoder_hidden\n",
    "        decoder_outputs = []\n",
    "\n",
    "        for i in range(INPUT_SENTENCE_LENGTH):\n",
    "            decoder_output, decoder_hidden = self.forward_step(decoder_input, decoder_hidden)\n",
    "            decoder_outputs.append(decoder_output)\n",
    "\n",
    "            if target_tensor is not None:\n",
    "                #print(target_tensor.shape)\n",
    "\n",
    "                decoder_input = target_tensor[:, i].unsqueeze(1)#[:, i].unsqueeze(1)\n",
    "                #print(decoder_input.shape)\n",
    "            else:\n",
    "                _, topi = decoder_output.topk(1)\n",
    "                decoder_input = topi.squeeze(-1).detach()\n",
    "                #print(decoder_input.shape)\n",
    "\n",
    "        decoder_outputs = torch.cat(decoder_outputs, dim=1)\n",
    "        decoder_output = torch.nn.functional.log_softmax(decoder_outputs, dim=-1)\n",
    "        return decoder_outputs, decoder_hidden, None\n",
    "    \n",
    "    def forward_step(self, input, hidden):\n",
    "        output = self.embedding(input)\n",
    "        output = torch.nn.functional.relu(output)\n",
    "        \n",
    "        output, hidden = self.model(output, hidden)\n",
    "        \n",
    "        output = self.out(output)\n",
    "        return output, hidden"
   ]
  },
  {
   "cell_type": "code",
   "execution_count": 29,
   "metadata": {},
   "outputs": [
    {
     "data": {
      "text/plain": [
       "tensor([[   1,   43,   11, 4839,    0]])"
      ]
     },
     "execution_count": 29,
     "metadata": {},
     "output_type": "execute_result"
    }
   ],
   "source": [
    "train_input_tensor[[0], :]"
   ]
  },
  {
   "cell_type": "code",
   "execution_count": 31,
   "metadata": {},
   "outputs": [
    {
     "data": {
      "text/plain": [
       "['operuju', 'operuju', 'strašný', 'kdyř', 'migrantů']"
      ]
     },
     "execution_count": 31,
     "metadata": {},
     "output_type": "execute_result"
    }
   ],
   "source": [
    "# This cell sometimes throws an error as it creates a token index outside the dictionary.\n",
    "\n",
    "testing_tensor = train_input_tensor[[0], :]\n",
    "testing_tensor_y = train_golden_tensor[[0], :]\n",
    "\n",
    "\n",
    "learning_rate = 0.01\n",
    "encoder = Encoder(VOCABULARY_LENGTH, 128, 1)\n",
    "decoder = Decoder(VOCABULARY_LENGTH, 128, 1)\n",
    "\n",
    "loss = torch.nn.NLLLoss()\n",
    "optimizer = torch.optim.Adam(encoder.parameters(), lr=learning_rate)\n",
    "\n",
    "\n",
    "encoded_sentences = encoder(testing_tensor)\n",
    "decoded_result, _, _ = decoder(encoded_sentences[0], encoded_sentences[1], testing_tensor_y)\n",
    "\n",
    "tokenizer.decode(torch.argmax(decoded_result[0, :,:], dim=1))"
   ]
  },
  {
   "cell_type": "markdown",
   "metadata": {},
   "source": [
    "### Epoch training"
   ]
  },
  {
   "cell_type": "code",
   "execution_count": 33,
   "metadata": {},
   "outputs": [],
   "source": [
    "encoder = Encoder(VOCABULARY_LENGTH, 128, 1)\n",
    "decoder = Decoder(VOCABULARY_LENGTH, 128, 1)\n",
    "\n",
    "criterion = torch.nn.NLLLoss()\n",
    "optimizer_encoder = torch.optim.Adam(encoder.parameters(), lr=learning_rate)\n",
    "optimizer_decoder = torch.optim.Adam(decoder.parameters(), lr=learning_rate)"
   ]
  },
  {
   "cell_type": "code",
   "execution_count": 36,
   "metadata": {},
   "outputs": [
    {
     "name": "stdout",
     "output_type": "stream",
     "text": [
      "-0.005757335826420602\n",
      "-0.005699361422346391\n",
      "-0.005542950927323204\n",
      "-0.005475501801655969\n",
      "-0.006093393111571791\n",
      "-0.006199123828827154\n",
      "-0.0058248308134567\n",
      "-0.006050254959163772\n",
      "-0.0064038197230390816\n",
      "-0.006438596576958034\n",
      "-0.00646133274592827\n",
      "-0.006881729384935154\n",
      "-0.006797082542461934\n",
      "-0.006492182720138366\n",
      "-0.00665356116771142\n",
      "-0.0071025853824825515\n",
      "-0.006561943792527722\n",
      "-0.007164048116925868\n",
      "-0.007281332143246625\n",
      "-0.007536528224478053\n"
     ]
    }
   ],
   "source": [
    "EPOCHS = 20\n",
    "\n",
    "learning_rate = 0.5 # 0.001\n",
    "\n",
    "for epoch_num in range(1, EPOCHS + 1):\n",
    "    epoch_loss = 0\n",
    "    \n",
    "    used_input_tensors = []\n",
    "    used_target_tensors = []\n",
    "    for input_tensor, target_tensor in data_loader:\n",
    "\n",
    "        used_input_tensors.append(input_tensor)\n",
    "        used_target_tensors.append(target_tensor)\n",
    "        \n",
    "        optimizer_encoder.zero_grad()\n",
    "        optimizer_decoder.zero_grad()\n",
    "\n",
    "        encoder_outputs, encoder_hidden = encoder(input_tensor)        \n",
    "        decoder_outputs, _, _ = decoder(encoder_outputs, encoder_hidden, target_tensor)\n",
    "\n",
    "        loss = criterion(\n",
    "            decoder_outputs.view(-1, decoder_outputs.size(-1)),\n",
    "            target_tensor.view(-1)\n",
    "        )\n",
    "        loss.backward()\n",
    "        optimizer_encoder.step()\n",
    "        optimizer_decoder.step()\n",
    "\n",
    "        epoch_loss += loss.item()\n",
    "\n",
    "    print(epoch_loss / (len(data_loader) * BATCH_SIZE))\n"
   ]
  },
  {
   "cell_type": "markdown",
   "metadata": {},
   "source": [
    "## Bahdanau Attention Layer"
   ]
  },
  {
   "cell_type": "code",
   "execution_count": 42,
   "metadata": {},
   "outputs": [],
   "source": [
    "class BahdanauAttention(nn.Module):\n",
    "    def __init__(self, hidden_size):\n",
    "        super(BahdanauAttention, self).__init__()\n",
    "        self.Wa = nn.Linear(hidden_size, hidden_size)\n",
    "        self.Ua = nn.Linear(hidden_size, hidden_size)\n",
    "        self.Va = nn.Linear(hidden_size, 1)\n",
    "\n",
    "    def forward(self, query, keys):\n",
    "        scores = self.Va(torch.tanh(self.Wa(query) + self.Ua(keys)))\n",
    "        scores = scores.squeeze(2).unsqueeze(1)\n",
    "\n",
    "        weights = F.softmax(scores, dim=-1)\n",
    "        context = torch.bmm(weights, keys)\n",
    "\n",
    "        return context, weights\n",
    "\n",
    "class AttnDecoderRNN(nn.Module):\n",
    "    def __init__(self, output_size, hidden_size, dropout_p=0.1):\n",
    "        super(AttnDecoderRNN, self).__init__()\n",
    "        self.embedding = nn.Embedding(output_size, hidden_size)\n",
    "        self.attention = BahdanauAttention(hidden_size)\n",
    "        self.gru = nn.GRU(2 * hidden_size, hidden_size, batch_first=True)\n",
    "        self.out = nn.Linear(hidden_size, output_size)\n",
    "        self.dropout = nn.Dropout(dropout_p)\n",
    "\n",
    "    def forward(self, encoder_outputs, encoder_hidden, target_tensor=None):\n",
    "        batch_size = encoder_outputs.size(0)\n",
    "        decoder_input = torch.empty(batch_size, 1, dtype=torch.long, device=device).fill_(START_OF_SENTENCE_INDEX)\n",
    "        decoder_hidden = encoder_hidden\n",
    "        decoder_outputs = []\n",
    "        attentions = []\n",
    "\n",
    "        for i in range(INPUT_SENTENCE_LENGTH):\n",
    "            decoder_output, decoder_hidden, attn_weights = self.forward_step(\n",
    "                decoder_input, decoder_hidden, encoder_outputs\n",
    "            )\n",
    "            decoder_outputs.append(decoder_output)\n",
    "            attentions.append(attn_weights)\n",
    "\n",
    "            if target_tensor is not None:\n",
    "                # Teacher forcing: Feed the target as the next input\n",
    "                decoder_input = target_tensor[:, i].unsqueeze(1) # Teacher forcing\n",
    "            else:\n",
    "                # Without teacher forcing: use its own predictions as the next input\n",
    "                _, topi = decoder_output.topk(1)\n",
    "                decoder_input = topi.squeeze(-1).detach()  # detach from history as input\n",
    "\n",
    "        decoder_outputs = torch.cat(decoder_outputs, dim=1)\n",
    "        decoder_outputs = F.log_softmax(decoder_outputs, dim=-1)\n",
    "        attentions = torch.cat(attentions, dim=1)\n",
    "\n",
    "        return decoder_outputs, decoder_hidden, attentions\n",
    "\n",
    "\n",
    "    def forward_step(self, input, hidden, encoder_outputs):\n",
    "        embedded =  self.dropout(self.embedding(input))\n",
    "\n",
    "        query = hidden.permute(1, 0, 2)\n",
    "        context, attn_weights = self.attention(query, encoder_outputs)\n",
    "        input_gru = torch.cat((embedded, context), dim=2)\n",
    "\n",
    "        output, hidden = self.gru(input_gru, hidden)\n",
    "        output = self.out(output)\n",
    "\n",
    "        return output, hidden, attn_weights"
   ]
  },
  {
   "cell_type": "code",
   "execution_count": 43,
   "metadata": {},
   "outputs": [],
   "source": [
    "encoder = Encoder(VOCABULARY_LENGTH, 128, 1)\n",
    "decoder = AttnDecoderRNN(VOCABULARY_LENGTH, 128)\n",
    "\n",
    "criterion = torch.nn.NLLLoss()\n",
    "optimizer_encoder = torch.optim.Adam(encoder.parameters(), lr=learning_rate)\n",
    "optimizer_decoder = torch.optim.Adam(decoder.parameters(), lr=learning_rate)"
   ]
  },
  {
   "cell_type": "code",
   "execution_count": 44,
   "metadata": {},
   "outputs": [
    {
     "name": "stdout",
     "output_type": "stream",
     "text": [
      "0.00045415121187955575\n",
      "0.000674406749193093\n",
      "0.0005507843592327823\n",
      "0.0007011716454460578\n",
      "0.0008087987093005654\n"
     ]
    }
   ],
   "source": [
    "EPOCHS = 5\n",
    "used_batches = 1000\n",
    "learning_rate = 0.001\n",
    "\n",
    "for epoch_num in range(1, EPOCHS + 1):\n",
    "    epoch_loss = 0\n",
    "    \n",
    "    used_input_tensors = []\n",
    "    used_target_tensors = []\n",
    "\n",
    "    for _ in range(used_batches):\n",
    "        input_tensor, target_tensor = next(iter(data_loader))\n",
    "\n",
    "        used_input_tensors.append(input_tensor)\n",
    "        used_target_tensors.append(target_tensor)\n",
    "        \n",
    "        optimizer_encoder.zero_grad()\n",
    "        optimizer_decoder.zero_grad()\n",
    "\n",
    "        encoder_outputs, encoder_hidden = encoder(input_tensor)        \n",
    "        decoder_outputs, _, _ = decoder(encoder_outputs, encoder_hidden, target_tensor)\n",
    "\n",
    "        #print(target_tensor.view(-1).shape, decoder_outputs.view(-1, decoder_outputs.size(-1)).shape)\n",
    "        loss = criterion(\n",
    "            decoder_outputs.view(-1, decoder_outputs.size(-1)),\n",
    "            target_tensor.view(-1)\n",
    "        )\n",
    "        loss.backward()\n",
    "        optimizer_encoder.step()\n",
    "        optimizer_decoder.step()\n",
    "\n",
    "        epoch_loss += loss.item()\n",
    "    print(epoch_loss / (len(data_loader) * BATCH_SIZE))\n"
   ]
  },
  {
   "cell_type": "code",
   "execution_count": 45,
   "metadata": {},
   "outputs": [],
   "source": [
    "def evaluate(encoder, decoder, input_tensor):\n",
    "    with torch.no_grad():\n",
    "\n",
    "        encoder_outputs, encoder_hidden = encoder(input_tensor)\n",
    "        decoder_outputs, _, decoder_attn = decoder(encoder_outputs, encoder_hidden)\n",
    "\n",
    "        _, topi = decoder_outputs.topk(1)\n",
    "        decoded_ids = topi.squeeze()\n",
    "        decoded_words = [tokenizer.decode(decoded) for decoded in decoded_ids]\n",
    "    return decoded_words, decoder_attn"
   ]
  },
  {
   "cell_type": "code",
   "execution_count": 46,
   "metadata": {},
   "outputs": [],
   "source": [
    "def evaluate_sentence(encoder, decoder, sentence, target_sentence, tokenizer):\n",
    "    input_lists = [tokenizer.encode(split_sentence) for split_sentence in normalize_sentence(sentence)]\n",
    "    input_tensors = pad_sequence(input_lists, batch_first=True)\n",
    "    output_sentence, attns = evaluate(encoder, decoder, input_tensors)\n",
    "    print(\"In:\", sentence)\n",
    "    print(\"Should:\", target_sentence)\n",
    "    print(\"Out:\", \" \".join(sum(output_sentence, [])))"
   ]
  },
  {
   "cell_type": "code",
   "execution_count": 59,
   "metadata": {},
   "outputs": [
    {
     "name": "stdout",
     "output_type": "stream",
     "text": [
      "In: V Bělorusku slaví Vánoce\n",
      "Should: V Bělorusku slaví Vánoce\n",
      "Out: <s> <s> <s> <s> spolu spolu hrníčku hrníčku proto kámen\n"
     ]
    }
   ],
   "source": [
    "evaluate_sentence(encoder, decoder, \"V Bělorusku slaví Vánoce\", \"V Bělorusku slaví Vánoce\", tokenizer)"
   ]
  },
  {
   "cell_type": "markdown",
   "metadata": {},
   "source": [
    "### Manual result check"
   ]
  },
  {
   "cell_type": "code",
   "execution_count": 60,
   "metadata": {},
   "outputs": [
    {
     "data": {
      "text/plain": [
       "[['<s>', 'všechny', 'stálo', '.', '</s>'],\n",
       " ['<s>', 'bokem', '.', '</s>', '</s>'],\n",
       " ['<s>', 'nejvzácnější', 'objevy', 'patřily', '</s>'],\n",
       " ['<s>', 'spolu', 'až', 'v', '</s>'],\n",
       " ['<s>', ':d', '.ten', '</s>', '</s>'],\n",
       " ['<s>', 'kdíš', 'přídu', '<UNK>', '</s>'],\n",
       " ['<s>', 'pavla', ',', 'petra', '</s>'],\n",
       " ['<s>', '<UNK>', 'až', '<UNK>', '</s>']]"
      ]
     },
     "execution_count": 60,
     "metadata": {},
     "output_type": "execute_result"
    }
   ],
   "source": [
    "single_input_tensor = used_input_tensors[0]\n",
    "single_target_tensor = used_target_tensors[0]\n",
    "\n",
    "tokenizer.decode(single_input_tensor[0])\n",
    "tokenizer.decode(single_target_tensor[0])\n",
    "[tokenizer.decode(x) for x in single_input_tensor]\n"
   ]
  }
 ],
 "metadata": {
  "kernelspec": {
   "display_name": "thi_prog_env",
   "language": "python",
   "name": "python3"
  },
  "language_info": {
   "codemirror_mode": {
    "name": "ipython",
    "version": 3
   },
   "file_extension": ".py",
   "mimetype": "text/x-python",
   "name": "python",
   "nbconvert_exporter": "python",
   "pygments_lexer": "ipython3",
   "version": "3.10.5"
  }
 },
 "nbformat": 4,
 "nbformat_minor": 2
}
