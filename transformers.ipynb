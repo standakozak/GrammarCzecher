{
 "cells": [
  {
   "cell_type": "markdown",
   "metadata": {},
   "source": [
    "# Imports and setup"
   ]
  },
  {
   "cell_type": "code",
   "execution_count": 1,
   "metadata": {},
   "outputs": [
    {
     "name": "stderr",
     "output_type": "stream",
     "text": [
      "c:\\Users\\standakozak\\PycharmProjects\\Environments\\czech_gec\\lib\\site-packages\\tqdm\\auto.py:21: TqdmWarning: IProgress not found. Please update jupyter and ipywidgets. See https://ipywidgets.readthedocs.io/en/stable/user_install.html\n",
      "  from .autonotebook import tqdm as notebook_tqdm\n"
     ]
    }
   ],
   "source": [
    "from transformers import AutoTokenizer, AutoModelForSeq2SeqLM, Seq2SeqTrainingArguments, Seq2SeqTrainer, pipeline\n",
    "import evaluate\n",
    "from datasets import Dataset, DatasetDict, load_dataset, load_from_disk\n",
    "import numpy as np\n",
    "\n",
    "from data_handling import normalize_sentence\n",
    "\n",
    "device = \"cpu\""
   ]
  },
  {
   "cell_type": "code",
   "execution_count": 2,
   "metadata": {},
   "outputs": [],
   "source": [
    "def load_sentences(filename=\"data/train/sentence.gold\"):\n",
    "    with open(filename, \"r\", encoding=\"UTF-8\") as file:\n",
    "        sentences = file.readlines()\n",
    "    for sentence in sentences:\n",
    "        yield normalize_sentence(sentence)\n",
    "\n",
    "\n",
    "def load_own_dataset(tokenizer, input_file=\"data/train/sentence.input\"):\n",
    "    with open(input_file, \"r\", encoding=\"UTF-8\") as file:\n",
    "        input_sentences = file.readlines()\n",
    "\n",
    "    input_tokenized = [tokenizer.encode(normalize_sentence(sentence)) for sentence in input_sentences]\n",
    "\n",
    "    return input_tokenized\n"
   ]
  },
  {
   "cell_type": "code",
   "execution_count": 3,
   "metadata": {},
   "outputs": [],
   "source": [
    "model_name = \"t5-base\"\n",
    "model_name = \"Helsinki-NLP/opus-mt-en-cs\"\n",
    "\n",
    "\n",
    "retrain_tokenizer = False\n",
    "tokenizer_name = \"Helsinki-NLP/opus-mt-en-cs\"\n",
    "#tokenizer_name = \"t5-base\"\n",
    "\n",
    "\n",
    "base_tokenizer = AutoTokenizer.from_pretrained(tokenizer_name, return_tensors=\"pt\")\n",
    "base_seq2seq = AutoModelForSeq2SeqLM.from_pretrained(model_name)\n"
   ]
  },
  {
   "cell_type": "markdown",
   "metadata": {},
   "source": [
    "# Tokenizer Training"
   ]
  },
  {
   "cell_type": "code",
   "execution_count": 4,
   "metadata": {},
   "outputs": [],
   "source": [
    "training_corpus = load_sentences()\n",
    "\n",
    "if retrain_tokenizer:\n",
    "    tokenizer = base_tokenizer.train_new_from_iterator(training_corpus, 52000)\n",
    "else:\n",
    "    tokenizer = base_tokenizer\n",
    "\n",
    "base_seq2seq.config.eos_token_id = tokenizer.eos_token_id\n",
    "base_seq2seq.config.pad_token_id = tokenizer.pad_token_id"
   ]
  },
  {
   "cell_type": "code",
   "execution_count": 5,
   "metadata": {},
   "outputs": [
    {
     "name": "stdout",
     "output_type": "stream",
     "text": [
      "Pangram with base tokenizer: \n",
      "Ó, náhlý déšť již zvířil prach a čilá laň teď běží s houfcem gazel Ualdewara k exkluzívním úkrytům!</s>\n",
      "59 tokens\n",
      "\n",
      "Fine-tuned tokenizer:\n",
      "Ó, náhlý déšť již zvířil prach a čilá laň teď běží s houfcem gazel Ualdewara k exkluzívním úkrytům!</s>\n",
      "59 tokens\n"
     ]
    }
   ],
   "source": [
    "sample_pangram = \"Ó, náhlý déšť již zvířil prach a čilá laň teď běží s houfcem gazel Ualdewara k exkluzívním úkrytům!\"\n",
    "\n",
    "print(\"Pangram with base tokenizer: \")\n",
    "encodings_base = base_tokenizer.encode(sample_pangram)\n",
    "print(base_tokenizer.decode(encodings_base))\n",
    "print(f\"{len(encodings_base)} tokens\")\n",
    "\n",
    "print(\"\\nFine-tuned tokenizer:\")\n",
    "encodings_used = tokenizer.encode(sample_pangram)\n",
    "print(tokenizer.decode(encodings_used))\n",
    "print(f\"{len(encodings_used)} tokens\")\n"
   ]
  },
  {
   "cell_type": "markdown",
   "metadata": {},
   "source": [
    "# Seq2Seq Model Training"
   ]
  },
  {
   "cell_type": "raw",
   "metadata": {
    "vscode": {
     "languageId": "raw"
    }
   },
   "source": [
    "raw_datasets = load_dataset(\"kde4\", lang1=\"en\", lang2=\"fr\", trust_remote_code=True)\n",
    "\n",
    "split_datasets = raw_datasets[\"train\"].train_test_split(train_size=0.9, seed=20)\n",
    "split_datasets[\"train\"][\"translation\"]"
   ]
  },
  {
   "cell_type": "markdown",
   "metadata": {},
   "source": [
    "## GECCC Dataset "
   ]
  },
  {
   "cell_type": "raw",
   "metadata": {
    "vscode": {
     "languageId": "raw"
    }
   },
   "source": [
    "def load_translation_data(src_file, tgt_file):\n",
    "    with open(src_file, \"r\", encoding=\"UTF-8\") as source, open(tgt_file, \"r\", encoding=\"UTF-8\") as target:\n",
    "        source_sentences = source.readlines()\n",
    "        target_sentences = target.readlines()\n",
    "    assert len(source_sentences) == len(target_sentences), \"Source and target data must be of same size\"\n",
    "\n",
    "    data = [{'source': src.strip(), 'target': tgt.strip()} for src, tgt in zip(source_sentences, target_sentences)]\n",
    "    return data\n",
    "\n",
    "\n",
    "data_files = {\n",
    "    \"train\": \n",
    "        (\"data/train/sentence.input\", \"data/train/sentence.gold\"), \n",
    "    \"dev\": \n",
    "        (\"data/dev/sentence.input\", \"data/dev/sentence.gold\"),\n",
    "    \"test\": \n",
    "        (\"data/test/sentence.input\", \"data/test/sentence.gold\")\n",
    "}\n",
    "\n",
    "dataset_dict = DatasetDict()\n",
    "\n",
    "for split, (source_file, target_file) in data_files.items():\n",
    "    data = load_translation_data(source_file, target_file)\n",
    "    dataset_dict[split] = Dataset.from_dict({'source': [item['source'] for item in data],\n",
    "                                             'target': [item['target'] for item in data]})\n",
    "\n",
    "print(dataset_dict)"
   ]
  },
  {
   "cell_type": "markdown",
   "metadata": {},
   "source": [
    "## Own dataset"
   ]
  },
  {
   "cell_type": "code",
   "execution_count": 24,
   "metadata": {},
   "outputs": [
    {
     "data": {
      "text/plain": [
       "DatasetDict({\n",
       "    train: Dataset({\n",
       "        features: ['target', 'source'],\n",
       "        num_rows: 1483008\n",
       "    })\n",
       "    test: Dataset({\n",
       "        features: ['target', 'source'],\n",
       "        num_rows: 317788\n",
       "    })\n",
       "    dev: Dataset({\n",
       "        features: ['target', 'source'],\n",
       "        num_rows: 317788\n",
       "    })\n",
       "})"
      ]
     },
     "execution_count": 24,
     "metadata": {},
     "output_type": "execute_result"
    }
   ],
   "source": [
    "dataset_dict = load_from_disk(\"data/czech_news_errors\")\n",
    "dataset_dict"
   ]
  },
  {
   "cell_type": "raw",
   "metadata": {
    "vscode": {
     "languageId": "raw"
    }
   },
   "source": [
    "dataset_dict[\"train\"] = dataset_dict[\"train\"].rename_columns({\"content\": \"target\", \"errors\": \"source\"})\n",
    "dataset_dict[\"dev\"] = dataset_dict[\"dev\"].rename_columns({\"content\": \"target\", \"errors\": \"source\"})\n",
    "dataset_dict[\"test\"] = dataset_dict[\"test\"].rename_columns({\"content\": \"target\", \"errors\": \"source\"})\n",
    "dataset_dict"
   ]
  },
  {
   "cell_type": "code",
   "execution_count": 7,
   "metadata": {},
   "outputs": [],
   "source": [
    "max_length = 128\n",
    "\n",
    "def preprocess_data(dataset):\n",
    "    normalized_inputs = [normalize_sentence(sentence) for sentence in dataset[\"source\"]]\n",
    "    normalized_gold = [normalize_sentence(sentence) for sentence in dataset[\"target\"]]\n",
    "\n",
    "    model_inputs = tokenizer(normalized_inputs, text_target=normalized_gold, max_length=max_length, truncation=True, padding=\"max_length\")\n",
    "    return model_inputs"
   ]
  },
  {
   "cell_type": "code",
   "execution_count": 8,
   "metadata": {},
   "outputs": [],
   "source": [
    "tokenized_datasets = dataset_dict.map(\n",
    "    preprocess_data,\n",
    "    batched=True\n",
    ")"
   ]
  },
  {
   "cell_type": "raw",
   "metadata": {
    "vscode": {
     "languageId": "raw"
    }
   },
   "source": [
    "small_dataset = tokenized_datasets.copy()\n",
    "small_dataset[\"train\"] = small_dataset[\"train\"].select(list(range(200)))\n",
    "small_dataset[\"test\"] = small_dataset[\"test\"].select(list(range(200)))\n",
    "small_dataset[\"dev\"] = small_dataset[\"dev\"].select(list(range(200)))\n",
    "small_dataset"
   ]
  },
  {
   "cell_type": "code",
   "execution_count": 25,
   "metadata": {},
   "outputs": [
    {
     "name": "stderr",
     "output_type": "stream",
     "text": [
      "max_steps is given, it will override any value given in num_train_epochs\n"
     ]
    }
   ],
   "source": [
    "\"\"\"\n",
    "mt_metrics = evaluate.combine(\n",
    "    [\"bleu\", \"chrf\"], force_prefix=True\n",
    ")\n",
    "\n",
    "\n",
    "def compute_metrics(pred):\n",
    "    labels_ids = pred.label_ids\n",
    "    pred_ids = pred.predictions\n",
    "    \n",
    "    predictions = tokenizer.batch_decode(pred_ids, skip_special_tokens=True)\n",
    "\n",
    "    labels_ids[labels_ids == -100] = tokenizer.pad_token_id\n",
    "    references = tokenizer.batch_decode(labels_ids, skip_special_tokens=True)\n",
    "\n",
    "    outputs = mt_metrics.compute(predictions=predictions,\n",
    "                             references=references)\n",
    "\n",
    "    return outputs\"\"\"\n",
    "\n",
    "\n",
    "\n",
    "\n",
    "metric = evaluate.load(\"sacrebleu\")\n",
    "\n",
    "def compute_metrics(eval_preds):\n",
    "    preds, labels = eval_preds\n",
    "    # In case the model returns more than the prediction logits\n",
    "    if isinstance(preds, tuple):\n",
    "        preds = preds[0]\n",
    "\n",
    "    decoded_preds = tokenizer.batch_decode(preds, skip_special_tokens=True)\n",
    "\n",
    "    # Replace -100s in the labels as we can't decode them\n",
    "    labels = np.where(labels != -100, labels, tokenizer.pad_token_id)\n",
    "    decoded_labels = tokenizer.batch_decode(labels, skip_special_tokens=True)\n",
    "\n",
    "    # Some simple post-processing\n",
    "    decoded_preds = [pred.strip() for pred in decoded_preds]\n",
    "    decoded_labels = [[label.strip()] for label in decoded_labels]\n",
    "\n",
    "    result = metric.compute(predictions=decoded_preds, references=decoded_labels)\n",
    "    return {\"bleu\": result[\"score\"]}\n",
    "\n",
    "training_args = Seq2SeqTrainingArguments(\n",
    "    output_dir='./model',\n",
    "    per_device_train_batch_size=4,\n",
    "    per_device_eval_batch_size=4,\n",
    "    logging_steps=1,\n",
    "    save_steps=5,\n",
    "    eval_steps=1,\n",
    "    max_steps=120,\n",
    "    eval_strategy=\"no\", #\"steps\",\n",
    "    save_strategy=\"no\", #\"steps\",\n",
    "    predict_with_generate=True,\n",
    "    report_to=None,\n",
    "    metric_for_best_model=\"chr_f_score\",\n",
    "    load_best_model_at_end=True\n",
    ")\n",
    "\n",
    "trainer = Seq2SeqTrainer(\n",
    "    model=base_seq2seq,\n",
    "    args=training_args,\n",
    "    train_dataset=tokenized_datasets[\"train\"].with_format(\"torch\"),\n",
    "    eval_dataset=tokenized_datasets[\"dev\"].with_format(\"torch\"),\n",
    "    compute_metrics=compute_metrics\n",
    ")\n"
   ]
  },
  {
   "cell_type": "code",
   "execution_count": 26,
   "metadata": {},
   "outputs": [
    {
     "name": "stderr",
     "output_type": "stream",
     "text": [
      "  1%|          | 1/120 [00:12<24:18, 12.26s/it]"
     ]
    },
    {
     "name": "stdout",
     "output_type": "stream",
     "text": [
      "{'loss': 0.5234, 'grad_norm': 2.68664288520813, 'learning_rate': 4.958333333333334e-05, 'epoch': 0.0}\n"
     ]
    },
    {
     "name": "stderr",
     "output_type": "stream",
     "text": [
      "  2%|▏         | 2/120 [00:18<16:36,  8.45s/it]"
     ]
    },
    {
     "name": "stdout",
     "output_type": "stream",
     "text": [
      "{'loss': 0.5101, 'grad_norm': 2.5996463298797607, 'learning_rate': 4.9166666666666665e-05, 'epoch': 0.0}\n"
     ]
    },
    {
     "name": "stderr",
     "output_type": "stream",
     "text": [
      "  2%|▎         | 3/120 [00:24<14:43,  7.55s/it]"
     ]
    },
    {
     "name": "stdout",
     "output_type": "stream",
     "text": [
      "{'loss': 0.4378, 'grad_norm': 2.461297035217285, 'learning_rate': 4.875e-05, 'epoch': 0.0}\n"
     ]
    },
    {
     "name": "stderr",
     "output_type": "stream",
     "text": [
      "  3%|▎         | 4/120 [00:30<13:16,  6.86s/it]"
     ]
    },
    {
     "name": "stdout",
     "output_type": "stream",
     "text": [
      "{'loss': 0.5171, 'grad_norm': 13.707554817199707, 'learning_rate': 4.8333333333333334e-05, 'epoch': 0.0}\n"
     ]
    },
    {
     "name": "stderr",
     "output_type": "stream",
     "text": [
      "  4%|▍         | 5/120 [00:35<12:14,  6.38s/it]"
     ]
    },
    {
     "name": "stdout",
     "output_type": "stream",
     "text": [
      "{'loss': 0.4104, 'grad_norm': 2.714751720428467, 'learning_rate': 4.791666666666667e-05, 'epoch': 0.0}\n"
     ]
    },
    {
     "name": "stderr",
     "output_type": "stream",
     "text": [
      "  5%|▌         | 6/120 [00:41<11:31,  6.07s/it]"
     ]
    },
    {
     "name": "stdout",
     "output_type": "stream",
     "text": [
      "{'loss': 0.3444, 'grad_norm': 2.1749844551086426, 'learning_rate': 4.75e-05, 'epoch': 0.0}\n"
     ]
    },
    {
     "name": "stderr",
     "output_type": "stream",
     "text": [
      "  6%|▌         | 7/120 [00:46<11:09,  5.93s/it]"
     ]
    },
    {
     "name": "stdout",
     "output_type": "stream",
     "text": [
      "{'loss': 0.3462, 'grad_norm': 1.8854520320892334, 'learning_rate': 4.708333333333334e-05, 'epoch': 0.0}\n"
     ]
    },
    {
     "name": "stderr",
     "output_type": "stream",
     "text": [
      "  7%|▋         | 8/120 [00:52<10:58,  5.88s/it]"
     ]
    },
    {
     "name": "stdout",
     "output_type": "stream",
     "text": [
      "{'loss': 0.3969, 'grad_norm': 2.5468862056732178, 'learning_rate': 4.666666666666667e-05, 'epoch': 0.0}\n"
     ]
    },
    {
     "name": "stderr",
     "output_type": "stream",
     "text": [
      "  8%|▊         | 9/120 [01:00<11:46,  6.37s/it]"
     ]
    },
    {
     "name": "stdout",
     "output_type": "stream",
     "text": [
      "{'loss': 0.4097, 'grad_norm': 2.414731979370117, 'learning_rate': 4.6250000000000006e-05, 'epoch': 0.0}\n"
     ]
    },
    {
     "name": "stderr",
     "output_type": "stream",
     "text": [
      "  8%|▊         | 10/120 [01:06<11:47,  6.43s/it]"
     ]
    },
    {
     "name": "stdout",
     "output_type": "stream",
     "text": [
      "{'loss': 0.209, 'grad_norm': 1.6890816688537598, 'learning_rate': 4.5833333333333334e-05, 'epoch': 0.0}\n"
     ]
    },
    {
     "name": "stderr",
     "output_type": "stream",
     "text": [
      "  9%|▉         | 11/120 [01:13<11:37,  6.40s/it]"
     ]
    },
    {
     "name": "stdout",
     "output_type": "stream",
     "text": [
      "{'loss': 0.4245, 'grad_norm': 3.2410264015197754, 'learning_rate': 4.541666666666667e-05, 'epoch': 0.0}\n"
     ]
    },
    {
     "name": "stderr",
     "output_type": "stream",
     "text": [
      " 10%|█         | 12/120 [01:18<10:46,  5.99s/it]"
     ]
    },
    {
     "name": "stdout",
     "output_type": "stream",
     "text": [
      "{'loss': 0.4573, 'grad_norm': 3.015742540359497, 'learning_rate': 4.5e-05, 'epoch': 0.0}\n"
     ]
    },
    {
     "name": "stderr",
     "output_type": "stream",
     "text": [
      " 11%|█         | 13/120 [01:22<09:59,  5.60s/it]"
     ]
    },
    {
     "name": "stdout",
     "output_type": "stream",
     "text": [
      "{'loss': 0.334, 'grad_norm': 3.6554157733917236, 'learning_rate': 4.458333333333334e-05, 'epoch': 0.0}\n"
     ]
    },
    {
     "name": "stderr",
     "output_type": "stream",
     "text": [
      " 12%|█▏        | 14/120 [01:27<09:33,  5.41s/it]"
     ]
    },
    {
     "name": "stdout",
     "output_type": "stream",
     "text": [
      "{'loss': 0.2913, 'grad_norm': 1.8242318630218506, 'learning_rate': 4.4166666666666665e-05, 'epoch': 0.0}\n"
     ]
    },
    {
     "name": "stderr",
     "output_type": "stream",
     "text": [
      " 12%|█▎        | 15/120 [01:33<09:49,  5.62s/it]"
     ]
    },
    {
     "name": "stdout",
     "output_type": "stream",
     "text": [
      "{'loss': 0.3181, 'grad_norm': 2.2917802333831787, 'learning_rate': 4.375e-05, 'epoch': 0.0}\n"
     ]
    },
    {
     "name": "stderr",
     "output_type": "stream",
     "text": [
      " 13%|█▎        | 16/120 [01:39<09:28,  5.46s/it]"
     ]
    },
    {
     "name": "stdout",
     "output_type": "stream",
     "text": [
      "{'loss': 0.5187, 'grad_norm': 3.079606533050537, 'learning_rate': 4.3333333333333334e-05, 'epoch': 0.0}\n"
     ]
    },
    {
     "name": "stderr",
     "output_type": "stream",
     "text": [
      " 14%|█▍        | 17/120 [01:45<09:52,  5.75s/it]"
     ]
    },
    {
     "name": "stdout",
     "output_type": "stream",
     "text": [
      "{'loss': 0.3812, 'grad_norm': 2.359492778778076, 'learning_rate': 4.291666666666667e-05, 'epoch': 0.0}\n"
     ]
    },
    {
     "name": "stderr",
     "output_type": "stream",
     "text": [
      " 15%|█▌        | 18/120 [01:51<10:02,  5.91s/it]"
     ]
    },
    {
     "name": "stdout",
     "output_type": "stream",
     "text": [
      "{'loss': 0.4493, 'grad_norm': 2.3060858249664307, 'learning_rate': 4.25e-05, 'epoch': 0.0}\n"
     ]
    },
    {
     "name": "stderr",
     "output_type": "stream",
     "text": [
      " 16%|█▌        | 19/120 [02:01<11:50,  7.03s/it]"
     ]
    },
    {
     "name": "stdout",
     "output_type": "stream",
     "text": [
      "{'loss': 0.3876, 'grad_norm': 2.2197580337524414, 'learning_rate': 4.208333333333334e-05, 'epoch': 0.0}\n"
     ]
    },
    {
     "name": "stderr",
     "output_type": "stream",
     "text": [
      " 17%|█▋        | 20/120 [02:08<11:32,  6.92s/it]"
     ]
    },
    {
     "name": "stdout",
     "output_type": "stream",
     "text": [
      "{'loss': 0.2923, 'grad_norm': 2.1346163749694824, 'learning_rate': 4.166666666666667e-05, 'epoch': 0.0}\n"
     ]
    },
    {
     "name": "stderr",
     "output_type": "stream",
     "text": [
      " 18%|█▊        | 21/120 [02:15<11:37,  7.04s/it]"
     ]
    },
    {
     "name": "stdout",
     "output_type": "stream",
     "text": [
      "{'loss': 0.487, 'grad_norm': 2.8677213191986084, 'learning_rate': 4.125e-05, 'epoch': 0.0}\n"
     ]
    },
    {
     "name": "stderr",
     "output_type": "stream",
     "text": [
      " 18%|█▊        | 22/120 [02:20<10:42,  6.55s/it]"
     ]
    },
    {
     "name": "stdout",
     "output_type": "stream",
     "text": [
      "{'loss': 1.1458, 'grad_norm': 27.756139755249023, 'learning_rate': 4.0833333333333334e-05, 'epoch': 0.0}\n"
     ]
    },
    {
     "name": "stderr",
     "output_type": "stream",
     "text": [
      " 19%|█▉        | 23/120 [02:29<11:36,  7.18s/it]"
     ]
    },
    {
     "name": "stdout",
     "output_type": "stream",
     "text": [
      "{'loss': 0.4939, 'grad_norm': 3.2472004890441895, 'learning_rate': 4.041666666666667e-05, 'epoch': 0.0}\n"
     ]
    },
    {
     "name": "stderr",
     "output_type": "stream",
     "text": [
      " 20%|██        | 24/120 [02:35<11:10,  6.99s/it]"
     ]
    },
    {
     "name": "stdout",
     "output_type": "stream",
     "text": [
      "{'loss': 0.4015, 'grad_norm': 2.518772602081299, 'learning_rate': 4e-05, 'epoch': 0.0}\n"
     ]
    },
    {
     "name": "stderr",
     "output_type": "stream",
     "text": [
      " 21%|██        | 25/120 [02:41<10:14,  6.47s/it]"
     ]
    },
    {
     "name": "stdout",
     "output_type": "stream",
     "text": [
      "{'loss': 0.3977, 'grad_norm': 2.4719486236572266, 'learning_rate': 3.958333333333333e-05, 'epoch': 0.0}\n"
     ]
    },
    {
     "name": "stderr",
     "output_type": "stream",
     "text": [
      " 22%|██▏       | 26/120 [02:46<09:37,  6.15s/it]"
     ]
    },
    {
     "name": "stdout",
     "output_type": "stream",
     "text": [
      "{'loss': 0.3264, 'grad_norm': 2.106884717941284, 'learning_rate': 3.9166666666666665e-05, 'epoch': 0.0}\n"
     ]
    },
    {
     "name": "stderr",
     "output_type": "stream",
     "text": [
      " 22%|██▎       | 27/120 [02:51<09:07,  5.89s/it]"
     ]
    },
    {
     "name": "stdout",
     "output_type": "stream",
     "text": [
      "{'loss': 0.3228, 'grad_norm': 2.0161643028259277, 'learning_rate': 3.875e-05, 'epoch': 0.0}\n"
     ]
    },
    {
     "name": "stderr",
     "output_type": "stream",
     "text": [
      " 23%|██▎       | 28/120 [02:57<08:57,  5.84s/it]"
     ]
    },
    {
     "name": "stdout",
     "output_type": "stream",
     "text": [
      "{'loss': 0.4964, 'grad_norm': 2.7875406742095947, 'learning_rate': 3.8333333333333334e-05, 'epoch': 0.0}\n"
     ]
    },
    {
     "name": "stderr",
     "output_type": "stream",
     "text": [
      " 24%|██▍       | 29/120 [03:02<08:36,  5.67s/it]"
     ]
    },
    {
     "name": "stdout",
     "output_type": "stream",
     "text": [
      "{'loss': 0.2628, 'grad_norm': 1.8256276845932007, 'learning_rate': 3.791666666666667e-05, 'epoch': 0.0}\n"
     ]
    },
    {
     "name": "stderr",
     "output_type": "stream",
     "text": [
      " 25%|██▌       | 30/120 [03:08<08:31,  5.69s/it]"
     ]
    },
    {
     "name": "stdout",
     "output_type": "stream",
     "text": [
      "{'loss': 0.5695, 'grad_norm': 3.2678616046905518, 'learning_rate': 3.7500000000000003e-05, 'epoch': 0.0}\n"
     ]
    },
    {
     "name": "stderr",
     "output_type": "stream",
     "text": [
      " 26%|██▌       | 31/120 [03:13<08:11,  5.52s/it]"
     ]
    },
    {
     "name": "stdout",
     "output_type": "stream",
     "text": [
      "{'loss': 0.4916, 'grad_norm': 2.9669196605682373, 'learning_rate': 3.708333333333334e-05, 'epoch': 0.0}\n"
     ]
    },
    {
     "name": "stderr",
     "output_type": "stream",
     "text": [
      " 27%|██▋       | 32/120 [03:18<07:51,  5.36s/it]"
     ]
    },
    {
     "name": "stdout",
     "output_type": "stream",
     "text": [
      "{'loss': 0.3715, 'grad_norm': 2.230949878692627, 'learning_rate': 3.6666666666666666e-05, 'epoch': 0.0}\n"
     ]
    },
    {
     "name": "stderr",
     "output_type": "stream",
     "text": [
      " 28%|██▊       | 33/120 [03:23<07:36,  5.25s/it]"
     ]
    },
    {
     "name": "stdout",
     "output_type": "stream",
     "text": [
      "{'loss': 0.3755, 'grad_norm': 3.175701379776001, 'learning_rate': 3.625e-05, 'epoch': 0.0}\n"
     ]
    },
    {
     "name": "stderr",
     "output_type": "stream",
     "text": [
      " 28%|██▊       | 34/120 [03:28<07:19,  5.12s/it]"
     ]
    },
    {
     "name": "stdout",
     "output_type": "stream",
     "text": [
      "{'loss': 0.4399, 'grad_norm': 2.5880911350250244, 'learning_rate': 3.5833333333333335e-05, 'epoch': 0.0}\n"
     ]
    },
    {
     "name": "stderr",
     "output_type": "stream",
     "text": [
      " 29%|██▉       | 35/120 [03:33<07:08,  5.04s/it]"
     ]
    },
    {
     "name": "stdout",
     "output_type": "stream",
     "text": [
      "{'loss': 0.3241, 'grad_norm': 2.5480823516845703, 'learning_rate': 3.541666666666667e-05, 'epoch': 0.0}\n"
     ]
    },
    {
     "name": "stderr",
     "output_type": "stream",
     "text": [
      " 30%|███       | 36/120 [03:38<07:05,  5.07s/it]"
     ]
    },
    {
     "name": "stdout",
     "output_type": "stream",
     "text": [
      "{'loss': 0.4928, 'grad_norm': 2.77695894241333, 'learning_rate': 3.5e-05, 'epoch': 0.0}\n"
     ]
    },
    {
     "name": "stderr",
     "output_type": "stream",
     "text": [
      " 31%|███       | 37/120 [03:43<06:58,  5.05s/it]"
     ]
    },
    {
     "name": "stdout",
     "output_type": "stream",
     "text": [
      "{'loss': 0.537, 'grad_norm': 3.074765920639038, 'learning_rate': 3.458333333333333e-05, 'epoch': 0.0}\n"
     ]
    },
    {
     "name": "stderr",
     "output_type": "stream",
     "text": [
      " 32%|███▏      | 38/120 [03:48<06:50,  5.01s/it]"
     ]
    },
    {
     "name": "stdout",
     "output_type": "stream",
     "text": [
      "{'loss': 0.6124, 'grad_norm': 2.820174217224121, 'learning_rate': 3.4166666666666666e-05, 'epoch': 0.0}\n"
     ]
    },
    {
     "name": "stderr",
     "output_type": "stream",
     "text": [
      " 32%|███▎      | 39/120 [03:53<06:46,  5.02s/it]"
     ]
    },
    {
     "name": "stdout",
     "output_type": "stream",
     "text": [
      "{'loss': 0.3673, 'grad_norm': 2.4933133125305176, 'learning_rate': 3.375000000000001e-05, 'epoch': 0.0}\n"
     ]
    },
    {
     "name": "stderr",
     "output_type": "stream",
     "text": [
      " 33%|███▎      | 40/120 [03:59<06:56,  5.21s/it]"
     ]
    },
    {
     "name": "stdout",
     "output_type": "stream",
     "text": [
      "{'loss': 0.4119, 'grad_norm': 2.5386929512023926, 'learning_rate': 3.3333333333333335e-05, 'epoch': 0.0}\n"
     ]
    },
    {
     "name": "stderr",
     "output_type": "stream",
     "text": [
      " 34%|███▍      | 41/120 [04:04<06:46,  5.15s/it]"
     ]
    },
    {
     "name": "stdout",
     "output_type": "stream",
     "text": [
      "{'loss': 0.7499, 'grad_norm': 3.9958255290985107, 'learning_rate': 3.291666666666667e-05, 'epoch': 0.0}\n"
     ]
    },
    {
     "name": "stderr",
     "output_type": "stream",
     "text": [
      " 35%|███▌      | 42/120 [04:09<06:49,  5.25s/it]"
     ]
    },
    {
     "name": "stdout",
     "output_type": "stream",
     "text": [
      "{'loss': 0.3467, 'grad_norm': 2.0401852130889893, 'learning_rate': 3.2500000000000004e-05, 'epoch': 0.0}\n"
     ]
    },
    {
     "name": "stderr",
     "output_type": "stream",
     "text": [
      " 36%|███▌      | 43/120 [04:15<06:51,  5.35s/it]"
     ]
    },
    {
     "name": "stdout",
     "output_type": "stream",
     "text": [
      "{'loss': 0.3609, 'grad_norm': 2.525691270828247, 'learning_rate': 3.208333333333334e-05, 'epoch': 0.0}\n"
     ]
    },
    {
     "name": "stderr",
     "output_type": "stream",
     "text": [
      " 37%|███▋      | 44/120 [04:20<06:44,  5.32s/it]"
     ]
    },
    {
     "name": "stdout",
     "output_type": "stream",
     "text": [
      "{'loss': 0.4882, 'grad_norm': 2.7924983501434326, 'learning_rate': 3.1666666666666666e-05, 'epoch': 0.0}\n"
     ]
    },
    {
     "name": "stderr",
     "output_type": "stream",
     "text": [
      " 38%|███▊      | 45/120 [04:25<06:28,  5.18s/it]"
     ]
    },
    {
     "name": "stdout",
     "output_type": "stream",
     "text": [
      "{'loss': 0.7291, 'grad_norm': 4.025518417358398, 'learning_rate': 3.125e-05, 'epoch': 0.0}\n"
     ]
    },
    {
     "name": "stderr",
     "output_type": "stream",
     "text": [
      " 38%|███▊      | 46/120 [04:30<06:15,  5.08s/it]"
     ]
    },
    {
     "name": "stdout",
     "output_type": "stream",
     "text": [
      "{'loss': 0.3893, 'grad_norm': 2.6238467693328857, 'learning_rate': 3.0833333333333335e-05, 'epoch': 0.0}\n"
     ]
    },
    {
     "name": "stderr",
     "output_type": "stream",
     "text": [
      " 39%|███▉      | 47/120 [04:34<06:04,  4.99s/it]"
     ]
    },
    {
     "name": "stdout",
     "output_type": "stream",
     "text": [
      "{'loss': 0.4203, 'grad_norm': 2.7471847534179688, 'learning_rate': 3.0416666666666666e-05, 'epoch': 0.0}\n"
     ]
    },
    {
     "name": "stderr",
     "output_type": "stream",
     "text": [
      " 40%|████      | 48/120 [04:39<05:58,  4.98s/it]"
     ]
    },
    {
     "name": "stdout",
     "output_type": "stream",
     "text": [
      "{'loss': 0.6291, 'grad_norm': 3.848888874053955, 'learning_rate': 3e-05, 'epoch': 0.0}\n"
     ]
    },
    {
     "name": "stderr",
     "output_type": "stream",
     "text": [
      " 41%|████      | 49/120 [04:44<05:51,  4.95s/it]"
     ]
    },
    {
     "name": "stdout",
     "output_type": "stream",
     "text": [
      "{'loss': 0.4546, 'grad_norm': 2.5541131496429443, 'learning_rate': 2.9583333333333335e-05, 'epoch': 0.0}\n"
     ]
    },
    {
     "name": "stderr",
     "output_type": "stream",
     "text": [
      " 42%|████▏     | 50/120 [04:49<05:50,  5.00s/it]"
     ]
    },
    {
     "name": "stdout",
     "output_type": "stream",
     "text": [
      "{'loss': 0.4022, 'grad_norm': 2.224252939224243, 'learning_rate': 2.916666666666667e-05, 'epoch': 0.0}\n"
     ]
    },
    {
     "name": "stderr",
     "output_type": "stream",
     "text": [
      " 42%|████▎     | 51/120 [04:54<05:46,  5.02s/it]"
     ]
    },
    {
     "name": "stdout",
     "output_type": "stream",
     "text": [
      "{'loss': 0.2436, 'grad_norm': 1.8495457172393799, 'learning_rate': 2.8749999999999997e-05, 'epoch': 0.0}\n"
     ]
    },
    {
     "name": "stderr",
     "output_type": "stream",
     "text": [
      " 43%|████▎     | 52/120 [04:59<05:41,  5.02s/it]"
     ]
    },
    {
     "name": "stdout",
     "output_type": "stream",
     "text": [
      "{'loss': 0.401, 'grad_norm': 3.6769204139709473, 'learning_rate': 2.8333333333333335e-05, 'epoch': 0.0}\n"
     ]
    },
    {
     "name": "stderr",
     "output_type": "stream",
     "text": [
      " 44%|████▍     | 53/120 [05:04<05:34,  4.99s/it]"
     ]
    },
    {
     "name": "stdout",
     "output_type": "stream",
     "text": [
      "{'loss': 0.4013, 'grad_norm': 2.388005018234253, 'learning_rate': 2.791666666666667e-05, 'epoch': 0.0}\n"
     ]
    },
    {
     "name": "stderr",
     "output_type": "stream",
     "text": [
      " 45%|████▌     | 54/120 [05:09<05:31,  5.02s/it]"
     ]
    },
    {
     "name": "stdout",
     "output_type": "stream",
     "text": [
      "{'loss': 0.4624, 'grad_norm': 2.710179090499878, 'learning_rate': 2.7500000000000004e-05, 'epoch': 0.0}\n"
     ]
    },
    {
     "name": "stderr",
     "output_type": "stream",
     "text": [
      " 46%|████▌     | 55/120 [05:14<05:24,  4.99s/it]"
     ]
    },
    {
     "name": "stdout",
     "output_type": "stream",
     "text": [
      "{'loss': 0.2402, 'grad_norm': 2.0686097145080566, 'learning_rate': 2.7083333333333332e-05, 'epoch': 0.0}\n"
     ]
    },
    {
     "name": "stderr",
     "output_type": "stream",
     "text": [
      " 47%|████▋     | 56/120 [05:19<05:18,  4.98s/it]"
     ]
    },
    {
     "name": "stdout",
     "output_type": "stream",
     "text": [
      "{'loss': 0.6434, 'grad_norm': 3.0266613960266113, 'learning_rate': 2.6666666666666667e-05, 'epoch': 0.0}\n"
     ]
    },
    {
     "name": "stderr",
     "output_type": "stream",
     "text": [
      " 48%|████▊     | 57/120 [05:24<05:11,  4.95s/it]"
     ]
    },
    {
     "name": "stdout",
     "output_type": "stream",
     "text": [
      "{'loss': 0.6094, 'grad_norm': 3.339745283126831, 'learning_rate': 2.625e-05, 'epoch': 0.0}\n"
     ]
    },
    {
     "name": "stderr",
     "output_type": "stream",
     "text": [
      " 48%|████▊     | 58/120 [05:29<05:03,  4.89s/it]"
     ]
    },
    {
     "name": "stdout",
     "output_type": "stream",
     "text": [
      "{'loss': 0.5317, 'grad_norm': 2.9965262413024902, 'learning_rate': 2.5833333333333336e-05, 'epoch': 0.0}\n"
     ]
    },
    {
     "name": "stderr",
     "output_type": "stream",
     "text": [
      " 49%|████▉     | 59/120 [05:34<04:56,  4.87s/it]"
     ]
    },
    {
     "name": "stdout",
     "output_type": "stream",
     "text": [
      "{'loss': 0.67, 'grad_norm': 3.5709047317504883, 'learning_rate': 2.5416666666666667e-05, 'epoch': 0.0}\n"
     ]
    },
    {
     "name": "stderr",
     "output_type": "stream",
     "text": [
      " 50%|█████     | 60/120 [05:39<04:50,  4.84s/it]"
     ]
    },
    {
     "name": "stdout",
     "output_type": "stream",
     "text": [
      "{'loss': 0.3908, 'grad_norm': 2.60565447807312, 'learning_rate': 2.5e-05, 'epoch': 0.0}\n"
     ]
    },
    {
     "name": "stderr",
     "output_type": "stream",
     "text": [
      " 51%|█████     | 61/120 [05:43<04:46,  4.85s/it]"
     ]
    },
    {
     "name": "stdout",
     "output_type": "stream",
     "text": [
      "{'loss': 0.375, 'grad_norm': 2.3894433975219727, 'learning_rate': 2.4583333333333332e-05, 'epoch': 0.0}\n"
     ]
    },
    {
     "name": "stderr",
     "output_type": "stream",
     "text": [
      " 52%|█████▏    | 62/120 [05:48<04:41,  4.86s/it]"
     ]
    },
    {
     "name": "stdout",
     "output_type": "stream",
     "text": [
      "{'loss': 0.6576, 'grad_norm': 4.287093639373779, 'learning_rate': 2.4166666666666667e-05, 'epoch': 0.0}\n"
     ]
    },
    {
     "name": "stderr",
     "output_type": "stream",
     "text": [
      " 52%|█████▎    | 63/120 [05:54<04:45,  5.01s/it]"
     ]
    },
    {
     "name": "stdout",
     "output_type": "stream",
     "text": [
      "{'loss': 0.5188, 'grad_norm': 2.713465690612793, 'learning_rate': 2.375e-05, 'epoch': 0.0}\n"
     ]
    },
    {
     "name": "stderr",
     "output_type": "stream",
     "text": [
      " 53%|█████▎    | 64/120 [05:59<04:40,  5.01s/it]"
     ]
    },
    {
     "name": "stdout",
     "output_type": "stream",
     "text": [
      "{'loss': 0.3214, 'grad_norm': 1.8584692478179932, 'learning_rate': 2.3333333333333336e-05, 'epoch': 0.0}\n"
     ]
    },
    {
     "name": "stderr",
     "output_type": "stream",
     "text": [
      " 54%|█████▍    | 65/120 [06:04<04:37,  5.05s/it]"
     ]
    },
    {
     "name": "stdout",
     "output_type": "stream",
     "text": [
      "{'loss': 0.5352, 'grad_norm': 5.522486686706543, 'learning_rate': 2.2916666666666667e-05, 'epoch': 0.0}\n"
     ]
    },
    {
     "name": "stderr",
     "output_type": "stream",
     "text": [
      " 55%|█████▌    | 66/120 [06:09<04:35,  5.11s/it]"
     ]
    },
    {
     "name": "stdout",
     "output_type": "stream",
     "text": [
      "{'loss': 0.2911, 'grad_norm': 8.739320755004883, 'learning_rate': 2.25e-05, 'epoch': 0.0}\n"
     ]
    },
    {
     "name": "stderr",
     "output_type": "stream",
     "text": [
      " 56%|█████▌    | 67/120 [06:14<04:28,  5.07s/it]"
     ]
    },
    {
     "name": "stdout",
     "output_type": "stream",
     "text": [
      "{'loss': 0.5884, 'grad_norm': 3.3358757495880127, 'learning_rate': 2.2083333333333333e-05, 'epoch': 0.0}\n"
     ]
    },
    {
     "name": "stderr",
     "output_type": "stream",
     "text": [
      " 57%|█████▋    | 68/120 [06:19<04:19,  4.99s/it]"
     ]
    },
    {
     "name": "stdout",
     "output_type": "stream",
     "text": [
      "{'loss': 0.5057, 'grad_norm': 2.9963653087615967, 'learning_rate': 2.1666666666666667e-05, 'epoch': 0.0}\n"
     ]
    },
    {
     "name": "stderr",
     "output_type": "stream",
     "text": [
      " 57%|█████▊    | 69/120 [06:24<04:11,  4.94s/it]"
     ]
    },
    {
     "name": "stdout",
     "output_type": "stream",
     "text": [
      "{'loss': 0.3816, 'grad_norm': 2.7741591930389404, 'learning_rate': 2.125e-05, 'epoch': 0.0}\n"
     ]
    },
    {
     "name": "stderr",
     "output_type": "stream",
     "text": [
      " 58%|█████▊    | 70/120 [06:28<04:04,  4.89s/it]"
     ]
    },
    {
     "name": "stdout",
     "output_type": "stream",
     "text": [
      "{'loss': 0.505, 'grad_norm': 3.182297468185425, 'learning_rate': 2.0833333333333336e-05, 'epoch': 0.0}\n"
     ]
    },
    {
     "name": "stderr",
     "output_type": "stream",
     "text": [
      " 59%|█████▉    | 71/120 [06:33<04:01,  4.92s/it]"
     ]
    },
    {
     "name": "stdout",
     "output_type": "stream",
     "text": [
      "{'loss': 0.4208, 'grad_norm': 2.348478317260742, 'learning_rate': 2.0416666666666667e-05, 'epoch': 0.0}\n"
     ]
    },
    {
     "name": "stderr",
     "output_type": "stream",
     "text": [
      " 60%|██████    | 72/120 [06:38<03:54,  4.89s/it]"
     ]
    },
    {
     "name": "stdout",
     "output_type": "stream",
     "text": [
      "{'loss': 0.4669, 'grad_norm': 3.64544677734375, 'learning_rate': 2e-05, 'epoch': 0.0}\n"
     ]
    },
    {
     "name": "stderr",
     "output_type": "stream",
     "text": [
      " 61%|██████    | 73/120 [06:43<03:49,  4.89s/it]"
     ]
    },
    {
     "name": "stdout",
     "output_type": "stream",
     "text": [
      "{'loss': 0.4032, 'grad_norm': 2.7006115913391113, 'learning_rate': 1.9583333333333333e-05, 'epoch': 0.0}\n"
     ]
    },
    {
     "name": "stderr",
     "output_type": "stream",
     "text": [
      " 62%|██████▏   | 74/120 [06:48<03:44,  4.89s/it]"
     ]
    },
    {
     "name": "stdout",
     "output_type": "stream",
     "text": [
      "{'loss': 0.4092, 'grad_norm': 3.375107526779175, 'learning_rate': 1.9166666666666667e-05, 'epoch': 0.0}\n"
     ]
    },
    {
     "name": "stderr",
     "output_type": "stream",
     "text": [
      " 62%|██████▎   | 75/120 [06:53<03:40,  4.90s/it]"
     ]
    },
    {
     "name": "stdout",
     "output_type": "stream",
     "text": [
      "{'loss': 0.4887, 'grad_norm': 2.5091476440429688, 'learning_rate': 1.8750000000000002e-05, 'epoch': 0.0}\n"
     ]
    },
    {
     "name": "stderr",
     "output_type": "stream",
     "text": [
      " 63%|██████▎   | 76/120 [06:58<03:34,  4.87s/it]"
     ]
    },
    {
     "name": "stdout",
     "output_type": "stream",
     "text": [
      "{'loss': 0.5746, 'grad_norm': 3.195418119430542, 'learning_rate': 1.8333333333333333e-05, 'epoch': 0.0}\n"
     ]
    },
    {
     "name": "stderr",
     "output_type": "stream",
     "text": [
      " 64%|██████▍   | 77/120 [07:03<03:28,  4.86s/it]"
     ]
    },
    {
     "name": "stdout",
     "output_type": "stream",
     "text": [
      "{'loss': 0.4088, 'grad_norm': 2.124907970428467, 'learning_rate': 1.7916666666666667e-05, 'epoch': 0.0}\n"
     ]
    },
    {
     "name": "stderr",
     "output_type": "stream",
     "text": [
      " 65%|██████▌   | 78/120 [07:07<03:23,  4.85s/it]"
     ]
    },
    {
     "name": "stdout",
     "output_type": "stream",
     "text": [
      "{'loss': 0.6545, 'grad_norm': 3.2009527683258057, 'learning_rate': 1.75e-05, 'epoch': 0.0}\n"
     ]
    },
    {
     "name": "stderr",
     "output_type": "stream",
     "text": [
      " 66%|██████▌   | 79/120 [07:13<03:24,  4.98s/it]"
     ]
    },
    {
     "name": "stdout",
     "output_type": "stream",
     "text": [
      "{'loss': 0.3581, 'grad_norm': 2.0931408405303955, 'learning_rate': 1.7083333333333333e-05, 'epoch': 0.0}\n"
     ]
    },
    {
     "name": "stderr",
     "output_type": "stream",
     "text": [
      " 67%|██████▋   | 80/120 [07:18<03:21,  5.05s/it]"
     ]
    },
    {
     "name": "stdout",
     "output_type": "stream",
     "text": [
      "{'loss': 0.3643, 'grad_norm': 2.2046923637390137, 'learning_rate': 1.6666666666666667e-05, 'epoch': 0.0}\n"
     ]
    },
    {
     "name": "stderr",
     "output_type": "stream",
     "text": [
      " 68%|██████▊   | 81/120 [07:23<03:17,  5.06s/it]"
     ]
    },
    {
     "name": "stdout",
     "output_type": "stream",
     "text": [
      "{'loss': 0.6342, 'grad_norm': 3.4459969997406006, 'learning_rate': 1.6250000000000002e-05, 'epoch': 0.0}\n"
     ]
    },
    {
     "name": "stderr",
     "output_type": "stream",
     "text": [
      " 68%|██████▊   | 82/120 [07:28<03:10,  5.01s/it]"
     ]
    },
    {
     "name": "stdout",
     "output_type": "stream",
     "text": [
      "{'loss': 0.2447, 'grad_norm': 1.6055723428726196, 'learning_rate': 1.5833333333333333e-05, 'epoch': 0.0}\n"
     ]
    },
    {
     "name": "stderr",
     "output_type": "stream",
     "text": [
      " 69%|██████▉   | 83/120 [07:33<03:02,  4.93s/it]"
     ]
    },
    {
     "name": "stdout",
     "output_type": "stream",
     "text": [
      "{'loss': 1.6285, 'grad_norm': 5.951422214508057, 'learning_rate': 1.5416666666666668e-05, 'epoch': 0.0}\n"
     ]
    },
    {
     "name": "stderr",
     "output_type": "stream",
     "text": [
      " 70%|███████   | 84/120 [07:37<02:55,  4.89s/it]"
     ]
    },
    {
     "name": "stdout",
     "output_type": "stream",
     "text": [
      "{'loss': 0.4048, 'grad_norm': 2.6030707359313965, 'learning_rate': 1.5e-05, 'epoch': 0.0}\n"
     ]
    },
    {
     "name": "stderr",
     "output_type": "stream",
     "text": [
      " 71%|███████   | 85/120 [07:42<02:52,  4.93s/it]"
     ]
    },
    {
     "name": "stdout",
     "output_type": "stream",
     "text": [
      "{'loss': 0.2762, 'grad_norm': 2.454455614089966, 'learning_rate': 1.4583333333333335e-05, 'epoch': 0.0}\n"
     ]
    },
    {
     "name": "stderr",
     "output_type": "stream",
     "text": [
      " 72%|███████▏  | 86/120 [07:47<02:45,  4.88s/it]"
     ]
    },
    {
     "name": "stdout",
     "output_type": "stream",
     "text": [
      "{'loss': 0.3769, 'grad_norm': 2.431744337081909, 'learning_rate': 1.4166666666666668e-05, 'epoch': 0.0}\n"
     ]
    },
    {
     "name": "stderr",
     "output_type": "stream",
     "text": [
      " 72%|███████▎  | 87/120 [07:54<03:04,  5.58s/it]"
     ]
    },
    {
     "name": "stdout",
     "output_type": "stream",
     "text": [
      "{'loss': 0.451, 'grad_norm': 3.335707187652588, 'learning_rate': 1.3750000000000002e-05, 'epoch': 0.0}\n"
     ]
    },
    {
     "name": "stderr",
     "output_type": "stream",
     "text": [
      " 73%|███████▎  | 88/120 [08:01<03:10,  5.96s/it]"
     ]
    },
    {
     "name": "stdout",
     "output_type": "stream",
     "text": [
      "{'loss': 0.4748, 'grad_norm': 2.520878791809082, 'learning_rate': 1.3333333333333333e-05, 'epoch': 0.0}\n"
     ]
    },
    {
     "name": "stderr",
     "output_type": "stream",
     "text": [
      " 74%|███████▍  | 89/120 [08:07<03:00,  5.81s/it]"
     ]
    },
    {
     "name": "stdout",
     "output_type": "stream",
     "text": [
      "{'loss': 0.4902, 'grad_norm': 2.4723095893859863, 'learning_rate': 1.2916666666666668e-05, 'epoch': 0.0}\n"
     ]
    },
    {
     "name": "stderr",
     "output_type": "stream",
     "text": [
      " 75%|███████▌  | 90/120 [08:14<03:04,  6.15s/it]"
     ]
    },
    {
     "name": "stdout",
     "output_type": "stream",
     "text": [
      "{'loss': 0.2615, 'grad_norm': 1.7988883256912231, 'learning_rate': 1.25e-05, 'epoch': 0.0}\n"
     ]
    },
    {
     "name": "stderr",
     "output_type": "stream",
     "text": [
      " 76%|███████▌  | 91/120 [08:25<03:42,  7.66s/it]"
     ]
    },
    {
     "name": "stdout",
     "output_type": "stream",
     "text": [
      "{'loss': 0.4095, 'grad_norm': 2.4683988094329834, 'learning_rate': 1.2083333333333333e-05, 'epoch': 0.0}\n"
     ]
    },
    {
     "name": "stderr",
     "output_type": "stream",
     "text": [
      " 77%|███████▋  | 92/120 [08:31<03:20,  7.18s/it]"
     ]
    },
    {
     "name": "stdout",
     "output_type": "stream",
     "text": [
      "{'loss': 0.3545, 'grad_norm': 3.665443181991577, 'learning_rate': 1.1666666666666668e-05, 'epoch': 0.0}\n"
     ]
    },
    {
     "name": "stderr",
     "output_type": "stream",
     "text": [
      " 78%|███████▊  | 93/120 [08:36<03:00,  6.68s/it]"
     ]
    },
    {
     "name": "stdout",
     "output_type": "stream",
     "text": [
      "{'loss': 0.4263, 'grad_norm': 2.7706830501556396, 'learning_rate': 1.125e-05, 'epoch': 0.0}\n"
     ]
    },
    {
     "name": "stderr",
     "output_type": "stream",
     "text": [
      " 78%|███████▊  | 94/120 [08:42<02:41,  6.22s/it]"
     ]
    },
    {
     "name": "stdout",
     "output_type": "stream",
     "text": [
      "{'loss': 0.3856, 'grad_norm': 2.175520181655884, 'learning_rate': 1.0833333333333334e-05, 'epoch': 0.0}\n"
     ]
    },
    {
     "name": "stderr",
     "output_type": "stream",
     "text": [
      " 79%|███████▉  | 95/120 [08:47<02:25,  5.83s/it]"
     ]
    },
    {
     "name": "stdout",
     "output_type": "stream",
     "text": [
      "{'loss': 0.5032, 'grad_norm': 3.2240471839904785, 'learning_rate': 1.0416666666666668e-05, 'epoch': 0.0}\n"
     ]
    },
    {
     "name": "stderr",
     "output_type": "stream",
     "text": [
      " 80%|████████  | 96/120 [08:51<02:11,  5.47s/it]"
     ]
    },
    {
     "name": "stdout",
     "output_type": "stream",
     "text": [
      "{'loss': 0.2947, 'grad_norm': 2.259200096130371, 'learning_rate': 1e-05, 'epoch': 0.0}\n"
     ]
    },
    {
     "name": "stderr",
     "output_type": "stream",
     "text": [
      " 81%|████████  | 97/120 [08:56<02:00,  5.24s/it]"
     ]
    },
    {
     "name": "stdout",
     "output_type": "stream",
     "text": [
      "{'loss': 0.4744, 'grad_norm': 2.618772029876709, 'learning_rate': 9.583333333333334e-06, 'epoch': 0.0}\n"
     ]
    },
    {
     "name": "stderr",
     "output_type": "stream",
     "text": [
      " 82%|████████▏ | 98/120 [09:01<01:52,  5.13s/it]"
     ]
    },
    {
     "name": "stdout",
     "output_type": "stream",
     "text": [
      "{'loss': 0.409, 'grad_norm': 2.3881988525390625, 'learning_rate': 9.166666666666666e-06, 'epoch': 0.0}\n"
     ]
    },
    {
     "name": "stderr",
     "output_type": "stream",
     "text": [
      " 82%|████████▎ | 99/120 [09:06<01:45,  5.02s/it]"
     ]
    },
    {
     "name": "stdout",
     "output_type": "stream",
     "text": [
      "{'loss': 0.3766, 'grad_norm': 2.545694351196289, 'learning_rate': 8.75e-06, 'epoch': 0.0}\n"
     ]
    },
    {
     "name": "stderr",
     "output_type": "stream",
     "text": [
      " 83%|████████▎ | 100/120 [09:10<01:37,  4.89s/it]"
     ]
    },
    {
     "name": "stdout",
     "output_type": "stream",
     "text": [
      "{'loss': 0.4245, 'grad_norm': 2.5265276432037354, 'learning_rate': 8.333333333333334e-06, 'epoch': 0.0}\n"
     ]
    },
    {
     "name": "stderr",
     "output_type": "stream",
     "text": [
      " 84%|████████▍ | 101/120 [09:15<01:34,  5.00s/it]"
     ]
    },
    {
     "name": "stdout",
     "output_type": "stream",
     "text": [
      "{'loss': 0.5956, 'grad_norm': 3.335174560546875, 'learning_rate': 7.916666666666667e-06, 'epoch': 0.0}\n"
     ]
    },
    {
     "name": "stderr",
     "output_type": "stream",
     "text": [
      " 85%|████████▌ | 102/120 [09:20<01:29,  4.99s/it]"
     ]
    },
    {
     "name": "stdout",
     "output_type": "stream",
     "text": [
      "{'loss': 0.6078, 'grad_norm': 2.96943736076355, 'learning_rate': 7.5e-06, 'epoch': 0.0}\n"
     ]
    },
    {
     "name": "stderr",
     "output_type": "stream",
     "text": [
      " 86%|████████▌ | 103/120 [09:25<01:25,  5.00s/it]"
     ]
    },
    {
     "name": "stdout",
     "output_type": "stream",
     "text": [
      "{'loss': 0.4382, 'grad_norm': 2.7796213626861572, 'learning_rate': 7.083333333333334e-06, 'epoch': 0.0}\n"
     ]
    },
    {
     "name": "stderr",
     "output_type": "stream",
     "text": [
      " 87%|████████▋ | 104/120 [09:32<01:26,  5.39s/it]"
     ]
    },
    {
     "name": "stdout",
     "output_type": "stream",
     "text": [
      "{'loss': 0.3265, 'grad_norm': 2.2501399517059326, 'learning_rate': 6.666666666666667e-06, 'epoch': 0.0}\n"
     ]
    },
    {
     "name": "stderr",
     "output_type": "stream",
     "text": [
      " 88%|████████▊ | 105/120 [09:37<01:18,  5.26s/it]"
     ]
    },
    {
     "name": "stdout",
     "output_type": "stream",
     "text": [
      "{'loss': 0.5157, 'grad_norm': 2.9366579055786133, 'learning_rate': 6.25e-06, 'epoch': 0.0}\n"
     ]
    },
    {
     "name": "stderr",
     "output_type": "stream",
     "text": [
      " 88%|████████▊ | 106/120 [09:42<01:12,  5.19s/it]"
     ]
    },
    {
     "name": "stdout",
     "output_type": "stream",
     "text": [
      "{'loss': 0.3711, 'grad_norm': 2.2623443603515625, 'learning_rate': 5.833333333333334e-06, 'epoch': 0.0}\n"
     ]
    },
    {
     "name": "stderr",
     "output_type": "stream",
     "text": [
      " 89%|████████▉ | 107/120 [09:47<01:06,  5.13s/it]"
     ]
    },
    {
     "name": "stdout",
     "output_type": "stream",
     "text": [
      "{'loss': 0.3637, 'grad_norm': 2.1348791122436523, 'learning_rate': 5.416666666666667e-06, 'epoch': 0.0}\n"
     ]
    },
    {
     "name": "stderr",
     "output_type": "stream",
     "text": [
      " 90%|█████████ | 108/120 [09:52<01:02,  5.18s/it]"
     ]
    },
    {
     "name": "stdout",
     "output_type": "stream",
     "text": [
      "{'loss': 0.3692, 'grad_norm': 2.7635340690612793, 'learning_rate': 5e-06, 'epoch': 0.0}\n"
     ]
    },
    {
     "name": "stderr",
     "output_type": "stream",
     "text": [
      " 91%|█████████ | 109/120 [09:58<00:58,  5.31s/it]"
     ]
    },
    {
     "name": "stdout",
     "output_type": "stream",
     "text": [
      "{'loss': 0.3131, 'grad_norm': 1.8908228874206543, 'learning_rate': 4.583333333333333e-06, 'epoch': 0.0}\n"
     ]
    },
    {
     "name": "stderr",
     "output_type": "stream",
     "text": [
      " 92%|█████████▏| 110/120 [10:03<00:54,  5.47s/it]"
     ]
    },
    {
     "name": "stdout",
     "output_type": "stream",
     "text": [
      "{'loss': 0.4782, 'grad_norm': 2.644212484359741, 'learning_rate': 4.166666666666667e-06, 'epoch': 0.0}\n"
     ]
    },
    {
     "name": "stderr",
     "output_type": "stream",
     "text": [
      " 92%|█████████▎| 111/120 [10:09<00:49,  5.46s/it]"
     ]
    },
    {
     "name": "stdout",
     "output_type": "stream",
     "text": [
      "{'loss': 0.3118, 'grad_norm': 2.2117741107940674, 'learning_rate': 3.75e-06, 'epoch': 0.0}\n"
     ]
    },
    {
     "name": "stderr",
     "output_type": "stream",
     "text": [
      " 93%|█████████▎| 112/120 [10:14<00:43,  5.43s/it]"
     ]
    },
    {
     "name": "stdout",
     "output_type": "stream",
     "text": [
      "{'loss': 1.0354, 'grad_norm': 3.9562907218933105, 'learning_rate': 3.3333333333333333e-06, 'epoch': 0.0}\n"
     ]
    },
    {
     "name": "stderr",
     "output_type": "stream",
     "text": [
      " 94%|█████████▍| 113/120 [10:19<00:37,  5.38s/it]"
     ]
    },
    {
     "name": "stdout",
     "output_type": "stream",
     "text": [
      "{'loss': 0.4871, 'grad_norm': 2.6594200134277344, 'learning_rate': 2.916666666666667e-06, 'epoch': 0.0}\n"
     ]
    },
    {
     "name": "stderr",
     "output_type": "stream",
     "text": [
      " 95%|█████████▌| 114/120 [10:25<00:32,  5.40s/it]"
     ]
    },
    {
     "name": "stdout",
     "output_type": "stream",
     "text": [
      "{'loss': 0.5301, 'grad_norm': 3.3167057037353516, 'learning_rate': 2.5e-06, 'epoch': 0.0}\n"
     ]
    },
    {
     "name": "stderr",
     "output_type": "stream",
     "text": [
      " 96%|█████████▌| 115/120 [10:30<00:26,  5.32s/it]"
     ]
    },
    {
     "name": "stdout",
     "output_type": "stream",
     "text": [
      "{'loss': 0.44, 'grad_norm': 2.607652187347412, 'learning_rate': 2.0833333333333334e-06, 'epoch': 0.0}\n"
     ]
    },
    {
     "name": "stderr",
     "output_type": "stream",
     "text": [
      " 97%|█████████▋| 116/120 [10:35<00:20,  5.25s/it]"
     ]
    },
    {
     "name": "stdout",
     "output_type": "stream",
     "text": [
      "{'loss': 0.3389, 'grad_norm': 2.2633886337280273, 'learning_rate': 1.6666666666666667e-06, 'epoch': 0.0}\n"
     ]
    },
    {
     "name": "stderr",
     "output_type": "stream",
     "text": [
      " 98%|█████████▊| 117/120 [10:41<00:16,  5.57s/it]"
     ]
    },
    {
     "name": "stdout",
     "output_type": "stream",
     "text": [
      "{'loss': 0.3823, 'grad_norm': 2.1887028217315674, 'learning_rate': 1.25e-06, 'epoch': 0.0}\n"
     ]
    },
    {
     "name": "stderr",
     "output_type": "stream",
     "text": [
      " 98%|█████████▊| 118/120 [10:48<00:11,  5.86s/it]"
     ]
    },
    {
     "name": "stdout",
     "output_type": "stream",
     "text": [
      "{'loss': 0.2909, 'grad_norm': 1.925498604774475, 'learning_rate': 8.333333333333333e-07, 'epoch': 0.0}\n"
     ]
    },
    {
     "name": "stderr",
     "output_type": "stream",
     "text": [
      " 99%|█████████▉| 119/120 [10:54<00:05,  5.96s/it]"
     ]
    },
    {
     "name": "stdout",
     "output_type": "stream",
     "text": [
      "{'loss': 0.1961, 'grad_norm': 1.686539888381958, 'learning_rate': 4.1666666666666667e-07, 'epoch': 0.0}\n"
     ]
    },
    {
     "name": "stderr",
     "output_type": "stream",
     "text": [
      "100%|██████████| 120/120 [11:00<00:00,  5.79s/it]"
     ]
    },
    {
     "name": "stdout",
     "output_type": "stream",
     "text": [
      "{'loss': 0.4289, 'grad_norm': 2.4045698642730713, 'learning_rate': 0.0, 'epoch': 0.0}\n"
     ]
    },
    {
     "name": "stderr",
     "output_type": "stream",
     "text": [
      "100%|██████████| 120/120 [11:00<00:00,  5.50s/it]"
     ]
    },
    {
     "name": "stdout",
     "output_type": "stream",
     "text": [
      "{'train_runtime': 660.3332, 'train_samples_per_second': 0.727, 'train_steps_per_second': 0.182, 'train_loss': 0.4516807119051615, 'epoch': 0.0}\n"
     ]
    },
    {
     "name": "stderr",
     "output_type": "stream",
     "text": [
      "\n"
     ]
    },
    {
     "data": {
      "text/plain": [
       "TrainOutput(global_step=120, training_loss=0.4516807119051615, metrics={'train_runtime': 660.3332, 'train_samples_per_second': 0.727, 'train_steps_per_second': 0.182, 'total_flos': 16271215165440.0, 'train_loss': 0.4516807119051615, 'epoch': 0.0003236664940445365})"
      ]
     },
     "execution_count": 26,
     "metadata": {},
     "output_type": "execute_result"
    }
   ],
   "source": [
    "trainer.train()"
   ]
  },
  {
   "cell_type": "code",
   "execution_count": 11,
   "metadata": {},
   "outputs": [],
   "source": [
    "from transformers import GenerationConfig\n",
    "gen_config = GenerationConfig(**{'max_length': 512, 'num_beams': 4, 'bad_words_ids': [[62508]], 'forced_eos_token_id': 0})\n",
    "gen_config.save_pretrained(\"./model\")"
   ]
  },
  {
   "cell_type": "code",
   "execution_count": 28,
   "metadata": {},
   "outputs": [
    {
     "name": "stderr",
     "output_type": "stream",
     "text": [
      "Some non-default generation parameters are set in the model config. These should go into a GenerationConfig file (https://huggingface.co/docs/transformers/generation_strategies#save-a-custom-decoding-strategy-with-your-model) instead. This warning will be raised to an exception in v4.41.\n",
      "Non-default generation parameters: {'max_length': 512, 'num_beams': 4, 'bad_words_ids': [[62508]], 'forced_eos_token_id': 0}\n"
     ]
    },
    {
     "data": {
      "text/plain": [
       "('./model\\\\tokenizer_config.json',\n",
       " './model\\\\special_tokens_map.json',\n",
       " './model\\\\vocab.json',\n",
       " './model\\\\source.spm',\n",
       " './model\\\\target.spm',\n",
       " './model\\\\added_tokens.json')"
      ]
     },
     "execution_count": 28,
     "metadata": {},
     "output_type": "execute_result"
    }
   ],
   "source": [
    "trainer.save_model(\"./model\")\n",
    "tokenizer.save_pretrained(\"./model\")"
   ]
  },
  {
   "cell_type": "markdown",
   "metadata": {},
   "source": [
    "# Using the model"
   ]
  },
  {
   "cell_type": "code",
   "execution_count": 29,
   "metadata": {},
   "outputs": [],
   "source": [
    "model = pipeline(\"translation\", \"./model\")"
   ]
  },
  {
   "cell_type": "code",
   "execution_count": 30,
   "metadata": {},
   "outputs": [
    {
     "name": "stdout",
     "output_type": "stream",
     "text": [
      "Input: [miloš zeman tenkrát sice odmítl takové \"řeči o levicových inletektulech\".]\n",
      "Correct: [Miloš Zeman tenkrát sice odmítl takové \"řeči o levicových intelektuálech\".]\n",
      "Model: [Miloš zeman tenkrát sice odmítl takové \"řeči o levičových vstupukulech.\"]\n",
      "\n",
      "Input: [A je jedno jestli se aůtoři snažili nebo nesnažili, zkrátka sejim to vbůec nepovedlo.]\n",
      "Correct: [A je jedno jestli se autoři snažili nebo nesnažili, zkrátka se jim to vůbec nepovedlo.]\n",
      "Model: [A je jedno jeli se autoři snažili nebo nesnažili, zkrátka sejim to všechno nepovedlo.]\n",
      "\n",
      "Input: [v prběhu tohoto nde k sobě oba antagonisté najdou cestu, objeví v sobě to dobré a poznají teplo upřmíných lidských citů.]\n",
      "Correct: [V průběhu tohoto dne k sobě oba antagonisté najdou cestu, objeví v sobě to dobré a poznají teplo upřímných lidských citů.]\n",
      "Model: [V překladu toto nde k sobě Oba antagonisté najdou cestu, objeví v sobě to dobré a poznají teplo upjatých lidských citů.]\n",
      "\n",
      "Input: [Mohou to být alkalická mýdla, prací  nebo čizticíí prostředky a organická rozpouštedla?]\n",
      "Correct: [Mohou to být alkalická mýdla, prací nebo čisticí prostředky a organická rozpouštědla.]\n",
      "Model: [Mohou to být alkalická část, práce nebo čizcí prostranky a organická rozpouštědla?]\n",
      "\n",
      "Input: [Přehlídka olympijskéťkolekce - Roman Šebrlee trojskokanka šárka kašpárokvá předvádíí oblečení pro olympijské hr yv aténách.]\n",
      "Correct: [Přehlídka olympijské kolekce - Roman Šebrle Trojskokanka Šárka Kašpárková předvádí oblečení pro olympijské hry v Aténách.]\n",
      "Model: [Přehlídka olympiády - Roman Šebrlee trojskokanka Šárka Kašpároková předčítání pro olympijské hry YV aténách.]\n",
      "\n",
      "Input: [Nevím, co by kdo hě lvíc.]\n",
      "Correct: [Nevím, co by kdo chtěl víc.]\n",
      "Model: [Nevím, co by mohlo být Lvíc.]\n",
      "\n",
      "Input: [lék účinný při sěečním slehání • pokud srdce přestává přečerpávat krev, může pomoci lé levosimendan.]\n",
      "Correct: [Lék účinný při srdečním selhání • Pokud srdce přestává přečerpávat krev, může pomoci lék Levosimendan.]\n",
      "Model: [Lék Účinný při sluníčkování • pokud srdce předvá přečerpávat krev, může pomoci lé levosimendan.]\n",
      "\n",
      "Input: [Zástupci vlády na jednání navrlhi, aby se řináctý plat rozpustil do dvánácti měsííčnícch příjmů.]\n",
      "Correct: [Zástupci vlády na jednání navrhli, aby se třináctý plat rozpustil do dvanácti měsíčních příjmů.]\n",
      "Model: [Zástupci války na jedné navrli, aby se blížil po rozpustil do dvou měsíců našich příjmů.]\n",
      "\n",
      "Input: [Automobilový průsyl šlae, to je malinko jiný  svět ten je jinde.]\n",
      "Correct: [Automobilový průmysl šlape, to je malinko jiný svět, ten je jinde.]\n",
      "Model: [Automobilový průmysl šlae, to je malinko jiný svět ten je jinde.]\n",
      "\n",
      "Input: [KDo by chtěl kartu rychlješí, muže sáhjout po ecidi Extreme III.]\n",
      "Correct: [Kdo by chtěl kartu rychlejší, může sáhnout po edici Extreme III.]\n",
      "Model: [KDo by měl Kartu Rychlješí, muže sáhnout po ecidi Extreme III.]\n",
      "\n"
     ]
    }
   ],
   "source": [
    "sample_sentences = dataset_dict[\"test\"].select(list(range(10)))\n",
    "\n",
    "for datapoint in sample_sentences:\n",
    "    sentence = datapoint[\"source\"]    \n",
    "    ground_truth = datapoint[\"target\"]\n",
    "    model_result = model(sentence)[0][\"translation_text\"]\n",
    "\n",
    "    print(f\"Input: [{sentence}]\\nCorrect: [{ground_truth}]\\nModel: [{model_result}]\\n\")"
   ]
  }
 ],
 "metadata": {
  "kernelspec": {
   "display_name": "Python 3",
   "language": "python",
   "name": "python3"
  },
  "language_info": {
   "codemirror_mode": {
    "name": "ipython",
    "version": 3
   },
   "file_extension": ".py",
   "mimetype": "text/x-python",
   "name": "python",
   "nbconvert_exporter": "python",
   "pygments_lexer": "ipython3",
   "version": "3.10.5"
  }
 },
 "nbformat": 4,
 "nbformat_minor": 2
}
